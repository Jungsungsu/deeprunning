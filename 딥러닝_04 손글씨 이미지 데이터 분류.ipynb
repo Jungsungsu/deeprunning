{
 "cells": [
  {
   "cell_type": "markdown",
   "id": "b3df4edf",
   "metadata": {},
   "source": [
    "### 목표\n",
    " - 0~9까지의 손글씨 이미지 데이터를 분류하는 모델을 만들어보자!\n"
   ]
  },
  {
   "cell_type": "code",
   "execution_count": 1,
   "id": "7262a035",
   "metadata": {},
   "outputs": [],
   "source": [
    "import numpy as np\n",
    "import pandas as pd\n",
    "import matplotlib.pyplot as plt\n",
    "\n",
    "# keras에서 지원하는 딥러닝 학습용 손글씨 데이터 임포트\n",
    "from tensorflow.keras.datasets import mnist"
   ]
  },
  {
   "cell_type": "code",
   "execution_count": 2,
   "id": "1914a493",
   "metadata": {},
   "outputs": [],
   "source": [
    "data = mnist.load_data()"
   ]
  },
  {
   "cell_type": "code",
   "execution_count": 3,
   "id": "5986187b",
   "metadata": {
    "scrolled": true
   },
   "outputs": [
    {
     "data": {
      "text/plain": [
       "((array([[[0, 0, 0, ..., 0, 0, 0],\n",
       "          [0, 0, 0, ..., 0, 0, 0],\n",
       "          [0, 0, 0, ..., 0, 0, 0],\n",
       "          ...,\n",
       "          [0, 0, 0, ..., 0, 0, 0],\n",
       "          [0, 0, 0, ..., 0, 0, 0],\n",
       "          [0, 0, 0, ..., 0, 0, 0]],\n",
       "  \n",
       "         [[0, 0, 0, ..., 0, 0, 0],\n",
       "          [0, 0, 0, ..., 0, 0, 0],\n",
       "          [0, 0, 0, ..., 0, 0, 0],\n",
       "          ...,\n",
       "          [0, 0, 0, ..., 0, 0, 0],\n",
       "          [0, 0, 0, ..., 0, 0, 0],\n",
       "          [0, 0, 0, ..., 0, 0, 0]],\n",
       "  \n",
       "         [[0, 0, 0, ..., 0, 0, 0],\n",
       "          [0, 0, 0, ..., 0, 0, 0],\n",
       "          [0, 0, 0, ..., 0, 0, 0],\n",
       "          ...,\n",
       "          [0, 0, 0, ..., 0, 0, 0],\n",
       "          [0, 0, 0, ..., 0, 0, 0],\n",
       "          [0, 0, 0, ..., 0, 0, 0]],\n",
       "  \n",
       "         ...,\n",
       "  \n",
       "         [[0, 0, 0, ..., 0, 0, 0],\n",
       "          [0, 0, 0, ..., 0, 0, 0],\n",
       "          [0, 0, 0, ..., 0, 0, 0],\n",
       "          ...,\n",
       "          [0, 0, 0, ..., 0, 0, 0],\n",
       "          [0, 0, 0, ..., 0, 0, 0],\n",
       "          [0, 0, 0, ..., 0, 0, 0]],\n",
       "  \n",
       "         [[0, 0, 0, ..., 0, 0, 0],\n",
       "          [0, 0, 0, ..., 0, 0, 0],\n",
       "          [0, 0, 0, ..., 0, 0, 0],\n",
       "          ...,\n",
       "          [0, 0, 0, ..., 0, 0, 0],\n",
       "          [0, 0, 0, ..., 0, 0, 0],\n",
       "          [0, 0, 0, ..., 0, 0, 0]],\n",
       "  \n",
       "         [[0, 0, 0, ..., 0, 0, 0],\n",
       "          [0, 0, 0, ..., 0, 0, 0],\n",
       "          [0, 0, 0, ..., 0, 0, 0],\n",
       "          ...,\n",
       "          [0, 0, 0, ..., 0, 0, 0],\n",
       "          [0, 0, 0, ..., 0, 0, 0],\n",
       "          [0, 0, 0, ..., 0, 0, 0]]], dtype=uint8),\n",
       "  array([5, 0, 4, ..., 5, 6, 8], dtype=uint8)),\n",
       " (array([[[0, 0, 0, ..., 0, 0, 0],\n",
       "          [0, 0, 0, ..., 0, 0, 0],\n",
       "          [0, 0, 0, ..., 0, 0, 0],\n",
       "          ...,\n",
       "          [0, 0, 0, ..., 0, 0, 0],\n",
       "          [0, 0, 0, ..., 0, 0, 0],\n",
       "          [0, 0, 0, ..., 0, 0, 0]],\n",
       "  \n",
       "         [[0, 0, 0, ..., 0, 0, 0],\n",
       "          [0, 0, 0, ..., 0, 0, 0],\n",
       "          [0, 0, 0, ..., 0, 0, 0],\n",
       "          ...,\n",
       "          [0, 0, 0, ..., 0, 0, 0],\n",
       "          [0, 0, 0, ..., 0, 0, 0],\n",
       "          [0, 0, 0, ..., 0, 0, 0]],\n",
       "  \n",
       "         [[0, 0, 0, ..., 0, 0, 0],\n",
       "          [0, 0, 0, ..., 0, 0, 0],\n",
       "          [0, 0, 0, ..., 0, 0, 0],\n",
       "          ...,\n",
       "          [0, 0, 0, ..., 0, 0, 0],\n",
       "          [0, 0, 0, ..., 0, 0, 0],\n",
       "          [0, 0, 0, ..., 0, 0, 0]],\n",
       "  \n",
       "         ...,\n",
       "  \n",
       "         [[0, 0, 0, ..., 0, 0, 0],\n",
       "          [0, 0, 0, ..., 0, 0, 0],\n",
       "          [0, 0, 0, ..., 0, 0, 0],\n",
       "          ...,\n",
       "          [0, 0, 0, ..., 0, 0, 0],\n",
       "          [0, 0, 0, ..., 0, 0, 0],\n",
       "          [0, 0, 0, ..., 0, 0, 0]],\n",
       "  \n",
       "         [[0, 0, 0, ..., 0, 0, 0],\n",
       "          [0, 0, 0, ..., 0, 0, 0],\n",
       "          [0, 0, 0, ..., 0, 0, 0],\n",
       "          ...,\n",
       "          [0, 0, 0, ..., 0, 0, 0],\n",
       "          [0, 0, 0, ..., 0, 0, 0],\n",
       "          [0, 0, 0, ..., 0, 0, 0]],\n",
       "  \n",
       "         [[0, 0, 0, ..., 0, 0, 0],\n",
       "          [0, 0, 0, ..., 0, 0, 0],\n",
       "          [0, 0, 0, ..., 0, 0, 0],\n",
       "          ...,\n",
       "          [0, 0, 0, ..., 0, 0, 0],\n",
       "          [0, 0, 0, ..., 0, 0, 0],\n",
       "          [0, 0, 0, ..., 0, 0, 0]]], dtype=uint8),\n",
       "  array([7, 2, 1, ..., 4, 5, 6], dtype=uint8)))"
      ]
     },
     "execution_count": 3,
     "metadata": {},
     "output_type": "execute_result"
    }
   ],
   "source": [
    "data"
   ]
  },
  {
   "cell_type": "code",
   "execution_count": 4,
   "id": "82687930",
   "metadata": {},
   "outputs": [
    {
     "data": {
      "text/plain": [
       "2"
      ]
     },
     "execution_count": 4,
     "metadata": {},
     "output_type": "execute_result"
    }
   ],
   "source": [
    "len(data)"
   ]
  },
  {
   "cell_type": "code",
   "execution_count": 5,
   "id": "6ac4ce78",
   "metadata": {},
   "outputs": [
    {
     "name": "stdout",
     "output_type": "stream",
     "text": [
      "2\n",
      "2\n",
      "60000\n",
      "60000\n",
      "10000\n",
      "10000\n"
     ]
    }
   ],
   "source": [
    "print(len(data[0]))      # train\n",
    "print(len(data[1]))      # test\n",
    "\n",
    "print(len(data[0][0]))   # X_train\n",
    "print(len(data[0][1]))   # y_train\n",
    "print(len(data[1][0]))   # X_test\n",
    "print(len(data[1][1]))   # y_test"
   ]
  },
  {
   "cell_type": "code",
   "execution_count": 6,
   "id": "f5712e95",
   "metadata": {},
   "outputs": [],
   "source": [
    "X_train = data[0][0]\n",
    "y_train = data[0][1]\n",
    "X_test = data[1][0]\n",
    "y_test = data[1][1]"
   ]
  },
  {
   "cell_type": "code",
   "execution_count": 7,
   "id": "724a1fbb",
   "metadata": {},
   "outputs": [
    {
     "name": "stdout",
     "output_type": "stream",
     "text": [
      "(60000, 28, 28)\n",
      "(60000,)\n",
      "(10000, 28, 28)\n",
      "(10000,)\n"
     ]
    }
   ],
   "source": [
    "print(X_train.shape)\n",
    "print(y_train.shape)\n",
    "print(X_test.shape)\n",
    "print(y_test.shape)\n",
    "\n",
    "# (데이터의개수, 가로픽셀 수, 세로픽셀 수)"
   ]
  },
  {
   "cell_type": "code",
   "execution_count": 8,
   "id": "14f72a6e",
   "metadata": {},
   "outputs": [
    {
     "data": {
      "text/plain": [
       "array([5, 0, 4, ..., 5, 6, 8], dtype=uint8)"
      ]
     },
     "execution_count": 8,
     "metadata": {},
     "output_type": "execute_result"
    }
   ],
   "source": [
    "y_train"
   ]
  },
  {
   "cell_type": "code",
   "execution_count": 9,
   "id": "dff569af",
   "metadata": {},
   "outputs": [
    {
     "data": {
      "image/png": "[encoded data removed]",
      "text/plain": [
       "<Figure size 432x288 with 1 Axes>"
      ]
     },
     "metadata": {
      "needs_background": "light"
     },
     "output_type": "display_data"
    }
   ],
   "source": [
    "plt.imshow(X_train[59999], cmap='gray');\n",
    "\n",
    "# imshow : 이미지 데이터를 그림으로 출력해주는 명령\n",
    "# cmap='gray' : 이미지를 흑백으로 전환시켜주는 명령"
   ]
  },
  {
   "cell_type": "markdown",
   "id": "f0c22047",
   "metadata": {},
   "source": [
    "### 정답 데이터를 원핫인코딩 하는 이유\n",
    "- 신경망 출력층에서 각 레이블 값들에 대한 확률 정보와 비교하여 오차를 구하기 위해서\n",
    "- 신경망 내부의 기본 모델이 선형회귀 모델이고 선형회귀 모델에서는 최적의 w,b값을 구하기 위해 오차를 점점 줄여나가야 하기 때문에! 결국 딥러닝도 같은 방식으로 동작함!!"
   ]
  },
  {
   "cell_type": "code",
   "execution_count": 10,
   "id": "f331bdb9",
   "metadata": {},
   "outputs": [],
   "source": [
    "y_train_one_hot = pd.get_dummies(y_train)\n",
    "y_test_one_hot = pd.get_dummies(y_test)"
   ]
  },
  {
   "cell_type": "code",
   "execution_count": 11,
   "id": "ad4526fe",
   "metadata": {},
   "outputs": [
    {
     "data": {
      "text/plain": [
       "((60000, 10), (10000, 10))"
      ]
     },
     "execution_count": 11,
     "metadata": {},
     "output_type": "execute_result"
    }
   ],
   "source": [
    "y_train_one_hot.shape, y_test_one_hot.shape"
   ]
  },
  {
   "cell_type": "code",
   "execution_count": 12,
   "id": "42e6a78f",
   "metadata": {},
   "outputs": [
    {
     "data": {
      "text/html": [
       "<div>\n",
       "<style scoped>\n",
       "    .dataframe tbody tr th:only-of-type {\n",
       "        vertical-align: middle;\n",
       "    }\n",
       "\n",
       "    .dataframe tbody tr th {\n",
       "        vertical-align: top;\n",
       "    }\n",
       "\n",
       "    .dataframe thead th {\n",
       "        text-align: right;\n",
       "    }\n",
       "</style>\n",
       "<table border=\"1\" class=\"dataframe\">\n",
       "  <thead>\n",
       "    <tr style=\"text-align: right;\">\n",
       "      <th></th>\n",
       "      <th>0</th>\n",
       "      <th>1</th>\n",
       "      <th>2</th>\n",
       "      <th>3</th>\n",
       "      <th>4</th>\n",
       "      <th>5</th>\n",
       "      <th>6</th>\n",
       "      <th>7</th>\n",
       "      <th>8</th>\n",
       "      <th>9</th>\n",
       "    </tr>\n",
       "  </thead>\n",
       "  <tbody>\n",
       "    <tr>\n",
       "      <th>0</th>\n",
       "      <td>0</td>\n",
       "      <td>0</td>\n",
       "      <td>0</td>\n",
       "      <td>0</td>\n",
       "      <td>0</td>\n",
       "      <td>1</td>\n",
       "      <td>0</td>\n",
       "      <td>0</td>\n",
       "      <td>0</td>\n",
       "      <td>0</td>\n",
       "    </tr>\n",
       "    <tr>\n",
       "      <th>1</th>\n",
       "      <td>1</td>\n",
       "      <td>0</td>\n",
       "      <td>0</td>\n",
       "      <td>0</td>\n",
       "      <td>0</td>\n",
       "      <td>0</td>\n",
       "      <td>0</td>\n",
       "      <td>0</td>\n",
       "      <td>0</td>\n",
       "      <td>0</td>\n",
       "    </tr>\n",
       "    <tr>\n",
       "      <th>2</th>\n",
       "      <td>0</td>\n",
       "      <td>0</td>\n",
       "      <td>0</td>\n",
       "      <td>0</td>\n",
       "      <td>1</td>\n",
       "      <td>0</td>\n",
       "      <td>0</td>\n",
       "      <td>0</td>\n",
       "      <td>0</td>\n",
       "      <td>0</td>\n",
       "    </tr>\n",
       "    <tr>\n",
       "      <th>3</th>\n",
       "      <td>0</td>\n",
       "      <td>1</td>\n",
       "      <td>0</td>\n",
       "      <td>0</td>\n",
       "      <td>0</td>\n",
       "      <td>0</td>\n",
       "      <td>0</td>\n",
       "      <td>0</td>\n",
       "      <td>0</td>\n",
       "      <td>0</td>\n",
       "    </tr>\n",
       "    <tr>\n",
       "      <th>4</th>\n",
       "      <td>0</td>\n",
       "      <td>0</td>\n",
       "      <td>0</td>\n",
       "      <td>0</td>\n",
       "      <td>0</td>\n",
       "      <td>0</td>\n",
       "      <td>0</td>\n",
       "      <td>0</td>\n",
       "      <td>0</td>\n",
       "      <td>1</td>\n",
       "    </tr>\n",
       "    <tr>\n",
       "      <th>...</th>\n",
       "      <td>...</td>\n",
       "      <td>...</td>\n",
       "      <td>...</td>\n",
       "      <td>...</td>\n",
       "      <td>...</td>\n",
       "      <td>...</td>\n",
       "      <td>...</td>\n",
       "      <td>...</td>\n",
       "      <td>...</td>\n",
       "      <td>...</td>\n",
       "    </tr>\n",
       "    <tr>\n",
       "      <th>59995</th>\n",
       "      <td>0</td>\n",
       "      <td>0</td>\n",
       "      <td>0</td>\n",
       "      <td>0</td>\n",
       "      <td>0</td>\n",
       "      <td>0</td>\n",
       "      <td>0</td>\n",
       "      <td>0</td>\n",
       "      <td>1</td>\n",
       "      <td>0</td>\n",
       "    </tr>\n",
       "    <tr>\n",
       "      <th>59996</th>\n",
       "      <td>0</td>\n",
       "      <td>0</td>\n",
       "      <td>0</td>\n",
       "      <td>1</td>\n",
       "      <td>0</td>\n",
       "      <td>0</td>\n",
       "      <td>0</td>\n",
       "      <td>0</td>\n",
       "      <td>0</td>\n",
       "      <td>0</td>\n",
       "    </tr>\n",
       "    <tr>\n",
       "      <th>59997</th>\n",
       "      <td>0</td>\n",
       "      <td>0</td>\n",
       "      <td>0</td>\n",
       "      <td>0</td>\n",
       "      <td>0</td>\n",
       "      <td>1</td>\n",
       "      <td>0</td>\n",
       "      <td>0</td>\n",
       "      <td>0</td>\n",
       "      <td>0</td>\n",
       "    </tr>\n",
       "    <tr>\n",
       "      <th>59998</th>\n",
       "      <td>0</td>\n",
       "      <td>0</td>\n",
       "      <td>0</td>\n",
       "      <td>0</td>\n",
       "      <td>0</td>\n",
       "      <td>0</td>\n",
       "      <td>1</td>\n",
       "      <td>0</td>\n",
       "      <td>0</td>\n",
       "      <td>0</td>\n",
       "    </tr>\n",
       "    <tr>\n",
       "      <th>59999</th>\n",
       "      <td>0</td>\n",
       "      <td>0</td>\n",
       "      <td>0</td>\n",
       "      <td>0</td>\n",
       "      <td>0</td>\n",
       "      <td>0</td>\n",
       "      <td>0</td>\n",
       "      <td>0</td>\n",
       "      <td>1</td>\n",
       "      <td>0</td>\n",
       "    </tr>\n",
       "  </tbody>\n",
       "</table>\n",
       "<p>60000 rows × 10 columns</p>\n",
       "</div>"
      ],
      "text/plain": [
       "       0  1  2  3  4  5  6  7  8  9\n",
       "0      0  0  0  0  0  1  0  0  0  0\n",
       "1      1  0  0  0  0  0  0  0  0  0\n",
       "2      0  0  0  0  1  0  0  0  0  0\n",
       "3      0  1  0  0  0  0  0  0  0  0\n",
       "4      0  0  0  0  0  0  0  0  0  1\n",
       "...   .. .. .. .. .. .. .. .. .. ..\n",
       "59995  0  0  0  0  0  0  0  0  1  0\n",
       "59996  0  0  0  1  0  0  0  0  0  0\n",
       "59997  0  0  0  0  0  1  0  0  0  0\n",
       "59998  0  0  0  0  0  0  1  0  0  0\n",
       "59999  0  0  0  0  0  0  0  0  1  0\n",
       "\n",
       "[60000 rows x 10 columns]"
      ]
     },
     "execution_count": 12,
     "metadata": {},
     "output_type": "execute_result"
    }
   ],
   "source": [
    "y_train_one_hot"
   ]
  },
  {
   "cell_type": "code",
   "execution_count": 13,
   "id": "337918d3",
   "metadata": {},
   "outputs": [
    {
     "data": {
      "text/plain": [
       "((60000, 28, 28), (10000, 28, 28))"
      ]
     },
     "execution_count": 13,
     "metadata": {},
     "output_type": "execute_result"
    }
   ],
   "source": [
    "X_train.shape, X_test.shape"
   ]
  },
  {
   "cell_type": "markdown",
   "id": "bf6c3845",
   "metadata": {},
   "source": [
    "- 신경망에는 2차원인 이미지 데이터를 한번에 넣을수가 없기 때문에 데이터의 차원을 1차원으로 펴주는 작업이 필요함"
   ]
  },
  {
   "cell_type": "code",
   "execution_count": 14,
   "id": "a7a09713",
   "metadata": {},
   "outputs": [],
   "source": [
    "# -1의 의미는 60000을 제외한 나머지값들을 다 곱해줌\n",
    "X_train = X_train.reshape(60000, -1)\n",
    "X_test = X_test.reshape(10000, -1)"
   ]
  },
  {
   "cell_type": "code",
   "execution_count": 15,
   "id": "96f302c1",
   "metadata": {},
   "outputs": [
    {
     "data": {
      "text/plain": [
       "((60000, 784), (10000, 784))"
      ]
     },
     "execution_count": 15,
     "metadata": {},
     "output_type": "execute_result"
    }
   ],
   "source": [
    "X_train.shape, X_test.shape"
   ]
  },
  {
   "cell_type": "markdown",
   "id": "e5ebc86f",
   "metadata": {},
   "source": [
    "### 신경망 구조를 직접 설계해보자~!\n",
    "- 입력되는 특성의 수\n",
    "- 출력층의 뉴런수, 활성화함수\n",
    "- 손실함수"
   ]
  },
  {
   "cell_type": "code",
   "execution_count": 16,
   "id": "579b5534",
   "metadata": {},
   "outputs": [],
   "source": [
    "from tensorflow.keras import Sequential\n",
    "from tensorflow.keras.layers import Dense"
   ]
  },
  {
   "cell_type": "code",
   "execution_count": 17,
   "id": "c3832cb3",
   "metadata": {},
   "outputs": [
    {
     "name": "stdout",
     "output_type": "stream",
     "text": [
      "Model: \"sequential\"\n",
      "_________________________________________________________________\n",
      "Layer (type)                 Output Shape              Param #   \n",
      "=================================================================\n",
      "dense (Dense)                (None, 1000)              785000    \n",
      "_________________________________________________________________\n",
      "dense_1 (Dense)              (None, 500)               500500    \n",
      "_________________________________________________________________\n",
      "dense_2 (Dense)              (None, 100)               50100     \n",
      "_________________________________________________________________\n",
      "dense_3 (Dense)              (None, 10)                1010      \n",
      "=================================================================\n",
      "Total params: 1,336,610\n",
      "Trainable params: 1,336,610\n",
      "Non-trainable params: 0\n",
      "_________________________________________________________________\n"
     ]
    }
   ],
   "source": [
    "# 1. 신경망 구조 설계\n",
    "model = Sequential()\n",
    "\n",
    "model.add(Dense(1000, input_dim=784, activation='relu'))\n",
    "\n",
    "# 중간층(은닉층)\n",
    "model.add(Dense(500, activation='relu'))   \n",
    "model.add(Dense(100, activation='relu'))    \n",
    "\n",
    "# 출력층\n",
    "model.add(Dense(10, activation='softmax'))\n",
    "\n",
    "model.summary()"
   ]
  },
  {
   "cell_type": "code",
   "execution_count": 18,
   "id": "9639fc59",
   "metadata": {},
   "outputs": [],
   "source": [
    "# 2. 학습/평가방법 설정\n",
    "model.compile(loss='categorical_crossentropy',\n",
    "              optimizer='Adam',       \n",
    "              metrics=['acc']        \n",
    "             )"
   ]
  },
  {
   "cell_type": "code",
   "execution_count": 19,
   "id": "ed1074fb",
   "metadata": {
    "collapsed": true
   },
   "outputs": [
    {
     "name": "stdout",
     "output_type": "stream",
     "text": [
      "Epoch 1/30\n",
      "235/235 [==============================] - 3s 15ms/step - loss: 2.5654 - acc: 0.8562\n",
      "Epoch 2/30\n",
      "235/235 [==============================] - 3s 15ms/step - loss: 0.2187 - acc: 0.9432\n",
      "Epoch 3/30\n",
      "235/235 [==============================] - 4s 15ms/step - loss: 0.1283 - acc: 0.9645\n",
      "Epoch 4/30\n",
      "235/235 [==============================] - 4s 15ms/step - loss: 0.0910 - acc: 0.9740\n",
      "Epoch 5/30\n",
      "235/235 [==============================] - 3s 14ms/step - loss: 0.0699 - acc: 0.9794\n",
      "Epoch 6/30\n",
      "235/235 [==============================] - 3s 13ms/step - loss: 0.0537 - acc: 0.9833\n",
      "Epoch 7/30\n",
      "235/235 [==============================] - 3s 13ms/step - loss: 0.0442 - acc: 0.9859\n",
      "Epoch 8/30\n",
      "235/235 [==============================] - 3s 13ms/step - loss: 0.0452 - acc: 0.9860\n",
      "Epoch 9/30\n",
      "235/235 [==============================] - 3s 12ms/step - loss: 0.0421 - acc: 0.9872\n",
      "Epoch 10/30\n",
      "235/235 [==============================] - 3s 12ms/step - loss: 0.0341 - acc: 0.9900\n",
      "Epoch 11/30\n",
      "235/235 [==============================] - 3s 12ms/step - loss: 0.0440 - acc: 0.9871\n",
      "Epoch 12/30\n",
      "235/235 [==============================] - 3s 13ms/step - loss: 0.0447 - acc: 0.9876\n",
      "Epoch 13/30\n",
      "235/235 [==============================] - 3s 13ms/step - loss: 0.0458 - acc: 0.9878\n",
      "Epoch 14/30\n",
      "235/235 [==============================] - 3s 13ms/step - loss: 0.0402 - acc: 0.9890\n",
      "Epoch 15/30\n",
      "235/235 [==============================] - 3s 13ms/step - loss: 0.0471 - acc: 0.9877\n",
      "Epoch 16/30\n",
      "235/235 [==============================] - 3s 13ms/step - loss: 0.0380 - acc: 0.9895\n",
      "Epoch 17/30\n",
      "235/235 [==============================] - 3s 13ms/step - loss: 0.0366 - acc: 0.9900\n",
      "Epoch 18/30\n",
      "235/235 [==============================] - 3s 12ms/step - loss: 0.0303 - acc: 0.9913\n",
      "Epoch 19/30\n",
      "235/235 [==============================] - 3s 12ms/step - loss: 0.0337 - acc: 0.9908\n",
      "Epoch 20/30\n",
      "235/235 [==============================] - 3s 12ms/step - loss: 0.0383 - acc: 0.9901\n",
      "Epoch 21/30\n",
      "235/235 [==============================] - 3s 12ms/step - loss: 0.0387 - acc: 0.9894\n",
      "Epoch 22/30\n",
      "235/235 [==============================] - 3s 12ms/step - loss: 0.0338 - acc: 0.9915\n",
      "Epoch 23/30\n",
      "235/235 [==============================] - 3s 12ms/step - loss: 0.0300 - acc: 0.9916\n",
      "Epoch 24/30\n",
      "235/235 [==============================] - 3s 12ms/step - loss: 0.0251 - acc: 0.9931\n",
      "Epoch 25/30\n",
      "235/235 [==============================] - 3s 12ms/step - loss: 0.0262 - acc: 0.9926\n",
      "Epoch 26/30\n",
      "235/235 [==============================] - 3s 12ms/step - loss: 0.0212 - acc: 0.9943\n",
      "Epoch 27/30\n",
      "235/235 [==============================] - 3s 12ms/step - loss: 0.0172 - acc: 0.9952\n",
      "Epoch 28/30\n",
      "235/235 [==============================] - 3s 12ms/step - loss: 0.0245 - acc: 0.9932\n",
      "Epoch 29/30\n",
      "235/235 [==============================] - 3s 13ms/step - loss: 0.0384 - acc: 0.9901\n",
      "Epoch 30/30\n",
      "235/235 [==============================] - 3s 13ms/step - loss: 0.0254 - acc: 0.9927\n"
     ]
    }
   ],
   "source": [
    "# 3. 학습\n",
    "h = model.fit(X_train, y_train_one_hot,\n",
    "              epochs=30,\n",
    "              batch_size=256\n",
    "             )"
   ]
  },
  {
   "cell_type": "code",
   "execution_count": 20,
   "id": "0d9c36c0",
   "metadata": {},
   "outputs": [
    {
     "data": {
      "image/png": "[encoded data removed]",
      "text/plain": [
       "<Figure size 1080x360 with 1 Axes>"
      ]
     },
     "metadata": {
      "needs_background": "light"
     },
     "output_type": "display_data"
    }
   ],
   "source": [
    "# 3. 시각화\n",
    "plt.figure(figsize=(15,5))\n",
    "\n",
    "plt.plot(h.history['acc'], label='acc')    \n",
    "\n",
    "plt.legend(prop={'size':80}, loc='lower center')\n",
    "plt.show()"
   ]
  },
  {
   "cell_type": "code",
   "execution_count": 21,
   "id": "4fcd8e87",
   "metadata": {},
   "outputs": [
    {
     "name": "stdout",
     "output_type": "stream",
     "text": [
      "313/313 [==============================] - 1s 2ms/step - loss: 0.1366 - acc: 0.9769\n"
     ]
    },
    {
     "data": {
      "text/plain": [
       "[0.13662593066692352, 0.9768999814987183]"
      ]
     },
     "execution_count": 21,
     "metadata": {},
     "output_type": "execute_result"
    }
   ],
   "source": [
    "# 4. 모델 평가\n",
    "model.evaluate(X_test, y_test_one_hot)"
   ]
  },
  {
   "cell_type": "markdown",
   "id": "8da8c1d0",
   "metadata": {},
   "source": [
    "### 과대적합을 확인하기 위해 train데이터 셋에서 검증용 데이터셋을 분리해서 학습시 같이 출력시켜보자!"
   ]
  },
  {
   "cell_type": "code",
   "execution_count": 22,
   "id": "4a7a70ba",
   "metadata": {},
   "outputs": [],
   "source": [
    "# 무조건 train, test 셋만 나눠주는게 아니라 데이터를 일정한 비율로 분리시켜주는 명령\n",
    "from sklearn.model_selection import train_test_split\n",
    "\n",
    "X_train, X_val, y_train_one_hot, y_val_one_hot = train_test_split(X_train,\n",
    "                                                                  y_train_one_hot,\n",
    "                                                                  random_state=3\n",
    "                                                                 )"
   ]
  },
  {
   "cell_type": "code",
   "execution_count": 23,
   "id": "b3b8463b",
   "metadata": {},
   "outputs": [
    {
     "name": "stdout",
     "output_type": "stream",
     "text": [
      "(45000, 784)\n",
      "(15000, 784)\n",
      "(45000, 10)\n",
      "(15000, 10)\n"
     ]
    }
   ],
   "source": [
    "print(X_train.shape)\n",
    "print(X_val.shape)             # 검증용 문제\n",
    "print(y_train_one_hot.shape)\n",
    "print(y_val_one_hot.shape)     # 검증용 정답"
   ]
  },
  {
   "cell_type": "code",
   "execution_count": 25,
   "id": "fe3b7526",
   "metadata": {},
   "outputs": [
    {
     "name": "stdout",
     "output_type": "stream",
     "text": [
      "Model: \"sequential_1\"\n",
      "_________________________________________________________________\n",
      "Layer (type)                 Output Shape              Param #   \n",
      "=================================================================\n",
      "dense_4 (Dense)              (None, 1000)              785000    \n",
      "_________________________________________________________________\n",
      "dense_5 (Dense)              (None, 500)               500500    \n",
      "_________________________________________________________________\n",
      "dense_6 (Dense)              (None, 100)               50100     \n",
      "_________________________________________________________________\n",
      "dense_7 (Dense)              (None, 10)                1010      \n",
      "=================================================================\n",
      "Total params: 1,336,610\n",
      "Trainable params: 1,336,610\n",
      "Non-trainable params: 0\n",
      "_________________________________________________________________\n"
     ]
    }
   ],
   "source": [
    "# 1. 신경망 구조 설계\n",
    "model1 = Sequential()\n",
    "\n",
    "model1.add(Dense(1000, input_dim=784, activation='relu'))\n",
    "\n",
    "# 중간층(은닉층)\n",
    "model1.add(Dense(500, activation='relu'))   \n",
    "model1.add(Dense(100, activation='relu'))    \n",
    "\n",
    "# 출력층\n",
    "model1.add(Dense(10, activation='softmax'))\n",
    "\n",
    "model1.summary()"
   ]
  },
  {
   "cell_type": "code",
   "execution_count": 26,
   "id": "e0943c04",
   "metadata": {},
   "outputs": [],
   "source": [
    "# 2. 학습/평가방법 설정\n",
    "model1.compile(loss='categorical_crossentropy',\n",
    "              optimizer='Adam',       \n",
    "              metrics=['acc']        \n",
    "             )"
   ]
  },
  {
   "cell_type": "code",
   "execution_count": 30,
   "id": "e3b0d09b",
   "metadata": {
    "collapsed": true
   },
   "outputs": [
    {
     "name": "stdout",
     "output_type": "stream",
     "text": [
      "Epoch 1/30\n",
      "176/176 [==============================] - 3s 15ms/step - loss: 3.6993 - acc: 0.8459 - val_loss: 0.3634 - val_acc: 0.9195\n",
      "Epoch 2/30\n",
      "176/176 [==============================] - 3s 15ms/step - loss: 0.2273 - acc: 0.9417 - val_loss: 0.2928 - val_acc: 0.9371\n",
      "Epoch 3/30\n",
      "176/176 [==============================] - 3s 15ms/step - loss: 0.1346 - acc: 0.9630 - val_loss: 0.2423 - val_acc: 0.9463\n",
      "Epoch 4/30\n",
      "176/176 [==============================] - 3s 15ms/step - loss: 0.0998 - acc: 0.9720 - val_loss: 0.2349 - val_acc: 0.9461\n",
      "Epoch 5/30\n",
      "176/176 [==============================] - 3s 15ms/step - loss: 0.0683 - acc: 0.9805 - val_loss: 0.2140 - val_acc: 0.9529\n",
      "Epoch 6/30\n",
      "176/176 [==============================] - 3s 15ms/step - loss: 0.0482 - acc: 0.9848 - val_loss: 0.1970 - val_acc: 0.9584\n",
      "Epoch 7/30\n",
      "176/176 [==============================] - 3s 15ms/step - loss: 0.0366 - acc: 0.9884 - val_loss: 0.1928 - val_acc: 0.9623\n",
      "Epoch 8/30\n",
      "176/176 [==============================] - 3s 15ms/step - loss: 0.0319 - acc: 0.9898 - val_loss: 0.2057 - val_acc: 0.9641\n",
      "Epoch 9/30\n",
      "176/176 [==============================] - 3s 15ms/step - loss: 0.0395 - acc: 0.9878 - val_loss: 0.2010 - val_acc: 0.9628\n",
      "Epoch 10/30\n",
      "176/176 [==============================] - 3s 16ms/step - loss: 0.0481 - acc: 0.9863 - val_loss: 0.2343 - val_acc: 0.9579\n",
      "Epoch 11/30\n",
      "176/176 [==============================] - 3s 16ms/step - loss: 0.0334 - acc: 0.9893 - val_loss: 0.2366 - val_acc: 0.9603\n",
      "Epoch 12/30\n",
      "176/176 [==============================] - 3s 17ms/step - loss: 0.0390 - acc: 0.9890 - val_loss: 0.2047 - val_acc: 0.9635\n",
      "Epoch 13/30\n",
      "176/176 [==============================] - 3s 16ms/step - loss: 0.0307 - acc: 0.9910 - val_loss: 0.2282 - val_acc: 0.9643\n",
      "Epoch 14/30\n",
      "176/176 [==============================] - 3s 15ms/step - loss: 0.0355 - acc: 0.9902 - val_loss: 0.2128 - val_acc: 0.9655\n",
      "Epoch 15/30\n",
      "176/176 [==============================] - 3s 16ms/step - loss: 0.0395 - acc: 0.9894 - val_loss: 0.2580 - val_acc: 0.9581\n",
      "Epoch 16/30\n",
      "176/176 [==============================] - 3s 15ms/step - loss: 0.0466 - acc: 0.9867 - val_loss: 0.2325 - val_acc: 0.9615\n",
      "Epoch 17/30\n",
      "176/176 [==============================] - 3s 14ms/step - loss: 0.0425 - acc: 0.9890 - val_loss: 0.2411 - val_acc: 0.9641\n",
      "Epoch 18/30\n",
      "176/176 [==============================] - 3s 15ms/step - loss: 0.0467 - acc: 0.9880 - val_loss: 0.2346 - val_acc: 0.9607\n",
      "Epoch 19/30\n",
      "176/176 [==============================] - 2s 14ms/step - loss: 0.0327 - acc: 0.9907 - val_loss: 0.2118 - val_acc: 0.9699\n",
      "Epoch 20/30\n",
      "176/176 [==============================] - 3s 14ms/step - loss: 0.0302 - acc: 0.9918 - val_loss: 0.2334 - val_acc: 0.9696\n",
      "Epoch 21/30\n",
      "176/176 [==============================] - 3s 14ms/step - loss: 0.0404 - acc: 0.9895 - val_loss: 0.2429 - val_acc: 0.9659\n",
      "Epoch 22/30\n",
      "176/176 [==============================] - 3s 15ms/step - loss: 0.0452 - acc: 0.9892 - val_loss: 0.2411 - val_acc: 0.9685\n",
      "Epoch 23/30\n",
      "176/176 [==============================] - 2s 14ms/step - loss: 0.0355 - acc: 0.9902 - val_loss: 0.1973 - val_acc: 0.9687\n",
      "Epoch 24/30\n",
      "176/176 [==============================] - 3s 15ms/step - loss: 0.0221 - acc: 0.9940 - val_loss: 0.2218 - val_acc: 0.9683\n",
      "Epoch 25/30\n",
      "176/176 [==============================] - 3s 15ms/step - loss: 0.0391 - acc: 0.9905 - val_loss: 0.2326 - val_acc: 0.9664\n",
      "Epoch 26/30\n",
      "176/176 [==============================] - 3s 14ms/step - loss: 0.0325 - acc: 0.9915 - val_loss: 0.2489 - val_acc: 0.9662\n",
      "Epoch 27/30\n",
      "176/176 [==============================] - 3s 14ms/step - loss: 0.0323 - acc: 0.9913 - val_loss: 0.2319 - val_acc: 0.9654\n",
      "Epoch 28/30\n",
      "176/176 [==============================] - 2s 14ms/step - loss: 0.0306 - acc: 0.9922 - val_loss: 0.2158 - val_acc: 0.9670\n",
      "Epoch 29/30\n",
      "176/176 [==============================] - 2s 14ms/step - loss: 0.0307 - acc: 0.9927 - val_loss: 0.2744 - val_acc: 0.9664\n",
      "Epoch 30/30\n",
      "176/176 [==============================] - 3s 14ms/step - loss: 0.0313 - acc: 0.9922 - val_loss: 0.2127 - val_acc: 0.9733\n"
     ]
    }
   ],
   "source": [
    "h1 = model1.fit(X_train, y_train_one_hot,\n",
    "                epochs = 30,\n",
    "                # 검증용 데이터셋 추가\n",
    "                validation_data=(X_val, y_val_one_hot),\n",
    "                batch_size=256\n",
    "               )"
   ]
  },
  {
   "cell_type": "code",
   "execution_count": 34,
   "id": "16064f3e",
   "metadata": {
    "scrolled": false
   },
   "outputs": [
    {
     "data": {
      "image/png": "[encoded data removed]",
      "text/plain": [
       "<Figure size 1080x360 with 1 Axes>"
      ]
     },
     "metadata": {
      "needs_background": "light"
     },
     "output_type": "display_data"
    }
   ],
   "source": [
    "# 3. 시각화\n",
    "plt.figure(figsize=(15,5))\n",
    "\n",
    "plt.plot(h1.history['acc'], label='acc')  \n",
    "\n",
    "plt.plot(h1.history['val_acc'], label='val_acc')    \n",
    "\n",
    "plt.legend(prop={'size':50}, loc='lower center')\n",
    "plt.show()"
   ]
  },
  {
   "cell_type": "code",
   "execution_count": 36,
   "id": "8bf0faeb",
   "metadata": {},
   "outputs": [
    {
     "name": "stdout",
     "output_type": "stream",
     "text": [
      "313/313 [==============================] - 0s 2ms/step - loss: 0.1809 - acc: 0.9768\n"
     ]
    },
    {
     "data": {
      "text/plain": [
       "[0.18090374767780304, 0.9768000245094299]"
      ]
     },
     "execution_count": 36,
     "metadata": {},
     "output_type": "execute_result"
    }
   ],
   "source": [
    "# 4. 모델 평가\n",
    "model1.evaluate(X_test, y_test_one_hot)"
   ]
  },
  {
   "cell_type": "markdown",
   "id": "a718a916",
   "metadata": {},
   "source": [
    "# "
   ]
  }
 ],
 "metadata": {
  "kernelspec": {
   "display_name": "Python 3 (ipykernel)",
   "language": "python",
   "name": "python3"
  },
  "language_info": {
   "codemirror_mode": {
    "name": "ipython",
    "version": 3
   },
   "file_extension": ".py",
   "mimetype": "text/x-python",
   "name": "python",
   "nbconvert_exporter": "python",
   "pygments_lexer": "ipython3",
   "version": "3.7.11"
  }
 },
 "nbformat": 4,
 "nbformat_minor": 5
}
