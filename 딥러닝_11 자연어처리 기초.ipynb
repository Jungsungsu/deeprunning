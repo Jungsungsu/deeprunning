{
 "cells": [
  {
   "cell_type": "code",
   "execution_count": 1,
   "id": "ae2c21e5",
   "metadata": {},
   "outputs": [
    {
     "name": "stdout",
     "output_type": "stream",
     "text": [
      "Collecting nltk\n",
      "  Downloading nltk-3.6.7-py3-none-any.whl (1.5 MB)\n",
      "Collecting click\n",
      "  Downloading click-8.0.3-py3-none-any.whl (97 kB)\n",
      "Collecting tqdm\n",
      "  Using cached tqdm-4.62.3-py2.py3-none-any.whl (76 kB)\n",
      "Collecting joblib\n",
      "  Using cached joblib-1.1.0-py2.py3-none-any.whl (306 kB)\n",
      "Collecting regex>=2021.8.3\n",
      "  Downloading regex-2022.1.18-cp37-cp37m-win_amd64.whl (272 kB)\n",
      "Requirement already satisfied: importlib-metadata in c:\\users\\smhrd\\anaconda3\\envs\\text\\lib\\site-packages (from click->nltk) (4.8.2)\n",
      "Requirement already satisfied: colorama in c:\\users\\smhrd\\anaconda3\\envs\\text\\lib\\site-packages (from click->nltk) (0.4.4)\n",
      "Requirement already satisfied: zipp>=0.5 in c:\\users\\smhrd\\anaconda3\\envs\\text\\lib\\site-packages (from importlib-metadata->click->nltk) (3.7.0)\n",
      "Requirement already satisfied: typing-extensions>=3.6.4 in c:\\users\\smhrd\\anaconda3\\envs\\text\\lib\\site-packages (from importlib-metadata->click->nltk) (3.10.0.2)\n",
      "Installing collected packages: tqdm, regex, joblib, click, nltk\n",
      "Successfully installed click-8.0.3 joblib-1.1.0 nltk-3.6.7 regex-2022.1.18 tqdm-4.62.3\n"
     ]
    }
   ],
   "source": [
    "!pip install nltk"
   ]
  },
  {
   "cell_type": "code",
   "execution_count": 2,
   "id": "6b7f8675",
   "metadata": {},
   "outputs": [],
   "source": [
    "import nltk"
   ]
  },
  {
   "cell_type": "code",
   "execution_count": 3,
   "id": "b5319de1",
   "metadata": {},
   "outputs": [
    {
     "name": "stdout",
     "output_type": "stream",
     "text": [
      "showing info https://raw.githubusercontent.com/nltk/nltk_data/gh-pages/index.xml\n"
     ]
    },
    {
     "data": {
      "text/plain": [
       "True"
      ]
     },
     "execution_count": 3,
     "metadata": {},
     "output_type": "execute_result"
    }
   ],
   "source": [
    "nltk.download()\n",
    "\n",
    "# punkt 토큰화\n",
    "# wordnet 표제어 추출\n",
    "# stopwords 불용어 처리"
   ]
  },
  {
   "cell_type": "code",
   "execution_count": 4,
   "id": "82e21326",
   "metadata": {},
   "outputs": [
    {
     "name": "stdout",
     "output_type": "stream",
     "text": [
      "Collecting konlpy\n",
      "  Using cached konlpy-0.6.0-py2.py3-none-any.whl (19.4 MB)\n",
      "Collecting JPype1>=0.7.0\n",
      "  Downloading JPype1-1.3.0-cp37-cp37m-win_amd64.whl (361 kB)\n",
      "Collecting lxml>=4.1.0\n",
      "  Using cached lxml-4.7.1-cp37-cp37m-win_amd64.whl (3.7 MB)\n",
      "Collecting numpy>=1.6\n",
      "  Downloading numpy-1.21.5-cp37-cp37m-win_amd64.whl (14.0 MB)\n",
      "Requirement already satisfied: typing-extensions in c:\\users\\smhrd\\anaconda3\\envs\\text\\lib\\site-packages (from JPype1>=0.7.0->konlpy) (3.10.0.2)\n",
      "Installing collected packages: numpy, lxml, JPype1, konlpy\n",
      "Successfully installed JPype1-1.3.0 konlpy-0.6.0 lxml-4.7.1 numpy-1.21.5\n"
     ]
    }
   ],
   "source": [
    "!pip install konlpy"
   ]
  },
  {
   "cell_type": "code",
   "execution_count": 5,
   "id": "4e3d4928",
   "metadata": {},
   "outputs": [],
   "source": [
    "import konlpy\n",
    "from konlpy.tag import Kkma"
   ]
  },
  {
   "cell_type": "markdown",
   "id": "3e700bd6",
   "metadata": {},
   "source": [
    "### 토큰화 (Tokenization)"
   ]
  },
  {
   "cell_type": "markdown",
   "id": "6b046f0b",
   "metadata": {},
   "source": [
    "### 문장 토큰화"
   ]
  },
  {
   "cell_type": "code",
   "execution_count": 6,
   "id": "9a21c1f3",
   "metadata": {},
   "outputs": [],
   "source": [
    "from nltk.tokenize import sent_tokenize"
   ]
  },
  {
   "cell_type": "code",
   "execution_count": 8,
   "id": "624bc6aa",
   "metadata": {},
   "outputs": [],
   "source": [
    "text = \"I am a boy. My name is Sungsu. My age is 28.\""
   ]
  },
  {
   "cell_type": "code",
   "execution_count": 9,
   "id": "ac97f2b2",
   "metadata": {},
   "outputs": [
    {
     "name": "stdout",
     "output_type": "stream",
     "text": [
      "['I am a boy.', 'My name is Sungsu.', 'My age is 28.']\n"
     ]
    }
   ],
   "source": [
    "print(sent_tokenize(text))"
   ]
  },
  {
   "cell_type": "markdown",
   "id": "e0577517",
   "metadata": {},
   "source": [
    "### 단어 토큰화"
   ]
  },
  {
   "cell_type": "code",
   "execution_count": 10,
   "id": "0be9041c",
   "metadata": {},
   "outputs": [],
   "source": [
    "from nltk.tokenize import word_tokenize"
   ]
  },
  {
   "cell_type": "code",
   "execution_count": 11,
   "id": "5ad2e2f3",
   "metadata": {},
   "outputs": [
    {
     "name": "stdout",
     "output_type": "stream",
     "text": [
      "['I', 'am', 'a', 'boy', '.', 'My', 'name', 'is', 'Sungsu', '.', 'My', 'age', 'is', '28', '.']\n"
     ]
    }
   ],
   "source": [
    "print(word_tokenize(text))"
   ]
  },
  {
   "cell_type": "markdown",
   "id": "752d9870",
   "metadata": {},
   "source": [
    "### 한국어에서 토큰화의 어려운점\n",
    "- 띄어쓰기가 영어보다 잘 지켜지지 않는다.\n",
    "- 형태소 분석 필요 (접사, 어미, 조사, 명사, 형용사, 대명사, 부사 등)"
   ]
  },
  {
   "cell_type": "code",
   "execution_count": 13,
   "id": "311f5799",
   "metadata": {},
   "outputs": [],
   "source": [
    "text2 = \"안녕하세요. 나는 정성수입니다. 나이는 28세입니다.\""
   ]
  },
  {
   "cell_type": "code",
   "execution_count": 12,
   "id": "a9469b89",
   "metadata": {},
   "outputs": [],
   "source": [
    "kkma = Kkma()"
   ]
  },
  {
   "cell_type": "code",
   "execution_count": 14,
   "id": "80185071",
   "metadata": {},
   "outputs": [
    {
     "data": {
      "text/plain": [
       "['안녕하세요.', '나는 정 성수입니다.', '나이는 28세입니다.']"
      ]
     },
     "execution_count": 14,
     "metadata": {},
     "output_type": "execute_result"
    }
   ],
   "source": [
    "# 문장분리\n",
    "kkma.sentences(text2)"
   ]
  },
  {
   "cell_type": "code",
   "execution_count": 15,
   "id": "797355b6",
   "metadata": {},
   "outputs": [
    {
     "data": {
      "text/plain": [
       "['안녕', '나', '정', '정성수', '성수', '나이', '28', '28세', '세']"
      ]
     },
     "execution_count": 15,
     "metadata": {},
     "output_type": "execute_result"
    }
   ],
   "source": [
    "# 명사분리\n",
    "kkma.nouns(text2)"
   ]
  },
  {
   "cell_type": "code",
   "execution_count": 16,
   "id": "77e765f7",
   "metadata": {},
   "outputs": [
    {
     "data": {
      "text/plain": [
       "['안녕',\n",
       " '하',\n",
       " '세요',\n",
       " '.',\n",
       " '나',\n",
       " '는',\n",
       " '정',\n",
       " '성수',\n",
       " '이',\n",
       " 'ㅂ니다',\n",
       " '.',\n",
       " '나이',\n",
       " '는',\n",
       " '28',\n",
       " '세',\n",
       " '이',\n",
       " 'ㅂ니다',\n",
       " '.']"
      ]
     },
     "execution_count": 16,
     "metadata": {},
     "output_type": "execute_result"
    }
   ],
   "source": [
    "# 형태소 토큰화\n",
    "kkma.morphs(text2)"
   ]
  },
  {
   "cell_type": "code",
   "execution_count": 17,
   "id": "8779136b",
   "metadata": {
    "scrolled": true
   },
   "outputs": [
    {
     "data": {
      "text/plain": [
       "[('안녕', 'NNG'),\n",
       " ('하', 'XSV'),\n",
       " ('세요', 'EFN'),\n",
       " ('.', 'SF'),\n",
       " ('나', 'NP'),\n",
       " ('는', 'JX'),\n",
       " ('정', 'NNG'),\n",
       " ('성수', 'NNG'),\n",
       " ('이', 'VCP'),\n",
       " ('ㅂ니다', 'EFN'),\n",
       " ('.', 'SF'),\n",
       " ('나이', 'NNG'),\n",
       " ('는', 'JX'),\n",
       " ('28', 'NR'),\n",
       " ('세', 'NNM'),\n",
       " ('이', 'VCP'),\n",
       " ('ㅂ니다', 'EFN'),\n",
       " ('.', 'SF')]"
      ]
     },
     "execution_count": 17,
     "metadata": {},
     "output_type": "execute_result"
    }
   ],
   "source": [
    "# 품사 태깅\n",
    "kkma.pos(text2)"
   ]
  },
  {
   "cell_type": "markdown",
   "id": "d57ecd74",
   "metadata": {},
   "source": [
    "품사 : http://kkma.snu.ac.kr/documents/?doc=postag"
   ]
  },
  {
   "cell_type": "markdown",
   "id": "0bf2c025",
   "metadata": {},
   "source": [
    "### 정제(Cleaning)와 정규화(Nomalization)\n",
    "- 대/소문자 통합\n",
    "- 불필요한 단어의 제거 : 빈도수가 적은 단어, 길이가 짧은 단어\n",
    "- 규칙에 기반한 표기가 다른 단어들의 통합\n",
    "- 정규 표현식 (Regular Expression) 활용"
   ]
  },
  {
   "cell_type": "code",
   "execution_count": 21,
   "id": "308c9b7f",
   "metadata": {},
   "outputs": [
    {
     "data": {
      "text/plain": [
       "'안녕하십니까 정성수입니다  반갑습니다'"
      ]
     },
     "execution_count": 21,
     "metadata": {},
     "output_type": "execute_result"
    }
   ],
   "source": [
    "import re\n",
    "\n",
    "text = \"안녕하십니까. 정성수입니다. ==> 반갑습니다.\"\n",
    "\n",
    "# 정규표현식을 이용하여 특수문자, 기호 삭제\n",
    "# ㄱ-ㅎㅏ-ㅣ가-힣a-zA-Z : 한글, 영문자, 공백을 제외한 문자\n",
    "sw = re.compile(\"[^ㄱ-ㅎㅏ-ㅣ가-힣a-zA-Z ]\")\n",
    "\n",
    "sw.sub(\"\",text)"
   ]
  },
  {
   "cell_type": "markdown",
   "id": "427d93e0",
   "metadata": {},
   "source": [
    "### 불용어(stopword)\n",
    "- 일반적인 한국어 불용어 리스트 : https://www.ranks.nl/stopwords/korean , https://bab2min.tistory.com/544"
   ]
  },
  {
   "cell_type": "code",
   "execution_count": 22,
   "id": "968e8be2",
   "metadata": {},
   "outputs": [],
   "source": [
    "from nltk.corpus import stopwords\n",
    "from nltk.tokenize import word_tokenize"
   ]
  },
  {
   "cell_type": "code",
   "execution_count": 26,
   "id": "7ef24de6",
   "metadata": {},
   "outputs": [
    {
     "data": {
      "text/plain": [
       "True"
      ]
     },
     "execution_count": 26,
     "metadata": {},
     "output_type": "execute_result"
    }
   ],
   "source": [
    "'고기를' not in stop_words"
   ]
  },
  {
   "cell_type": "code",
   "execution_count": 27,
   "id": "7bffb752",
   "metadata": {},
   "outputs": [
    {
     "name": "stdout",
     "output_type": "stream",
     "text": [
      "['고기를', '아무렇게나', '구우려고', '고기라고', '같은', '아니거든', '삼겹살을', '구울', '때는', '중요한', '있지']\n"
     ]
    }
   ],
   "source": [
    "example = \"고기를 아무렇게나 구우려고 하면 안 돼. 고기라고 다 같은 게 아니거든. 예컨대 삼겹살을 구울 때는 중요한 게 있지.\"\n",
    "stop_words = ['하면', '안', '돼', '.', '라고', '다', '게', '예컨대', '을']\n",
    "\n",
    "# 단어를 분리\n",
    "wt = word_tokenize(example)\n",
    "\n",
    "result = []\n",
    "for i in wt:\n",
    "    if i not in stop_words:\n",
    "        result.append(i)\n",
    "        \n",
    "print(result)"
   ]
  },
  {
   "cell_type": "markdown",
   "id": "7331089c",
   "metadata": {},
   "source": [
    "### 정규 표현식을 이용한 텍스트 처리"
   ]
  },
  {
   "cell_type": "markdown",
   "id": "8ff9684e",
   "metadata": {},
   "source": [
    "## 정규 표현식 (Regular Expression)\n",
    "\n",
    "<table>\n",
    "<thead>\n",
    "<tr>\n",
    "<th>특수 문자</th>\n",
    "<th>설명</th>\n",
    "</tr>\n",
    "</thead>\n",
    "<tbody>\n",
    "<tr>\n",
    "<td>.</td>\n",
    "<td>한 개의 임의의 문자를 나타냄. (줄바꿈 문자인 \\n는 제외)</td>\n",
    "</tr>\n",
    "<tr>\n",
    "<td>?</td>\n",
    "<td>앞의 문자가 존재할 수도 있고, 존재하지 않을 수도 있음. (문자가 0개 또는 1개)</td>\n",
    "</tr>\n",
    "<tr>\n",
    "<td>*</td>\n",
    "<td>앞의 문자가 무한개로 존재할 수도 있고, 존재하지 않을 수도 있음. (문자가 0개 이상)</td>\n",
    "</tr>\n",
    "<tr>\n",
    "<td>+</td>\n",
    "<td>앞의 문자가 최소 한 개 이상 존재. (문자가 1개 이상)</td>\n",
    "</tr>\n",
    "<tr>\n",
    "<td>^</td>\n",
    "<td>뒤의 문자로 문자열이 시작.</td>\n",
    "</tr>\n",
    "<tr>\n",
    "<td>$</td>\n",
    "<td>앞의 문자로 문자열이 종료.</td>\n",
    "</tr>\n",
    "<tr>\n",
    "<td>{숫자}</td>\n",
    "<td>숫자만큼 반복.</td>\n",
    "</tr>\n",
    "<tr>\n",
    "<td>{숫자1, 숫자2}</td>\n",
    "<td>숫자1 이상 숫자2 이하만큼 반복합니다. ?, *, +를 이것으로 대체.</td>\n",
    "</tr>\n",
    "<tr>\n",
    "<td>{숫자,}</td>\n",
    "<td>숫자 이상만큼 반복합니다.</td>\n",
    "</tr>\n",
    "<tr>\n",
    "<td>[ ]</td>\n",
    "<td>대괄호 안의 문자들 중 한 개의 문자와 매치. [amk]라고 한다면 a 또는 m 또는 k 중 하나라도 존재하면 매치를 의미. [a-zA-Z]는 알파벳 전체를 의미</td>\n",
    "</tr>\n",
    "<tr>\n",
    "<td>[^문자]</td>\n",
    "<td>해당 문자를 제외한 문자를 매치.</td>\n",
    "</tr>\n",
    "<tr>\n",
    "<td>l</td>\n",
    "<td>AlB와 같이 쓰이며 A 또는 B의 의미</td>\n",
    "</tr>\n",
    "</tbody>\n",
    "</table>\n",
    "\n",
    "\n",
    "<h3 id=\"2\"><strong>역 슬래쉬(\\)를 이용하여 자주 쓰이는 문자 규칙</strong></h3>\n",
    "\n",
    "<table>\n",
    "<thead>\n",
    "<tr>\n",
    "<th>문자 규칙</th>\n",
    "<th>설명</th>\n",
    "</tr>\n",
    "</thead>\n",
    "<tbody>\n",
    "<tr>\n",
    "<td>\\\\</td>\n",
    "<td>역 슬래쉬 문자 자체를 의미</td>\n",
    "</tr>\n",
    "<tr>\n",
    "<td>\\d</td>\n",
    "<td>모든 숫자를 의미합니다. [0-9]와 의미가 동일.</td>\n",
    "</tr>\n",
    "<tr>\n",
    "<td>\\D</td>\n",
    "<td>숫자를 제외한 모든 문자를 의미합니다. [^0-9]와 의미가 동일.</td>\n",
    "</tr>\n",
    "<tr>\n",
    "<td>\\s</td>\n",
    "<td>공백을 의미합니다. [ \\t\\n\\r\\f\\v]와 의미가 동일.</td>\n",
    "</tr>\n",
    "<tr>\n",
    "<td>\\S</td>\n",
    "<td>공백을 제외한 문자를 의미합니다. [^ \\t\\n\\r\\f\\v]와 의미가 동일.</td>\n",
    "</tr>\n",
    "<tr>\n",
    "<td>\\w</td>\n",
    "<td>문자 또는 숫자를 의미합니다. [a-zA-Z0-9]와 의미가 동일.</td>\n",
    "</tr>\n",
    "<tr>\n",
    "<td>\\W</td>\n",
    "<td>문자 또는 숫자가 아닌 문자를 의미합니다. [^a-zA-Z0-9]와 의미가 동일.</td>\n",
    "</tr>\n",
    "</tbody>\n",
    "</table>\n",
    "\n",
    "<h3 ><strong>정규표현식 모듈 함수</strong></h3>\n",
    "\n",
    "<table>\n",
    "<thead>\n",
    "<tr>\n",
    "<th>모듈 함수</th>\n",
    "<th>설명</th>\n",
    "</tr>\n",
    "</thead>\n",
    "<tbody>\n",
    "<tr>\n",
    "<td>re.compile()</td>\n",
    "<td>정규표현식을 컴파일하는 함수, 미리 컴파일해놓고 사용하면 속도와 편의성면에서 유리</td>\n",
    "</tr>\n",
    "<tr>\n",
    "<td>re.search()</td>\n",
    "<td>문자열 전체에 대해서 정규표현식과 매치되는지를 검색.</td>\n",
    "</tr>\n",
    "<tr>\n",
    "<td>re.match()</td>\n",
    "<td>문자열의 처음이 정규표현식과 매치되는지를 검색.</td>\n",
    "</tr>\n",
    "<tr>\n",
    "<td>re.split()</td>\n",
    "<td>정규 표현식을 기준으로 문자열을 분리하여 리스트로 리턴.</td>\n",
    "</tr>\n",
    "<tr>\n",
    "<td>re.findall()</td>\n",
    "<td>문자열에서 정규 표현식과 매치되는 모든 경우의 문자열을 찾아서 리스트로 리턴. 만약, 매치되는 문자열이 없다면 빈 리스트가 리턴.</td>\n",
    "</tr>\n",
    "<tr>\n",
    "<td>re.finditer()</td>\n",
    "<td>문자열에서 정규 표현식과 매치되는 모든 경우의 문자열에 대한 이터레이터 객체를 리턴.</td>\n",
    "</tr>\n",
    "<tr>\n",
    "<td>re.sub()</td>\n",
    "<td>문자열에서 정규 표현식과 일치하는 부분에 대해서 다른 문자열로 대체.</td>\n",
    "</tr>\n",
    "</tbody>\n",
    "</table>"
   ]
  },
  {
   "cell_type": "code",
   "execution_count": 28,
   "id": "fd13fd83",
   "metadata": {},
   "outputs": [
    {
     "data": {
      "text/plain": [
       "['100', 'John', 'PROF', '101', 'James', 'STUD', '102', 'Mac', 'STUD']"
      ]
     },
     "execution_count": 28,
     "metadata": {},
     "output_type": "execute_result"
    }
   ],
   "source": [
    "text = \"\"\"100 John    PROF\n",
    "          101 James   STUD\n",
    "          102 Mac   STUD\"\"\"\n",
    "\n",
    "re.split('\\s+', text)"
   ]
  },
  {
   "cell_type": "code",
   "execution_count": 30,
   "id": "ceb88425",
   "metadata": {},
   "outputs": [
    {
     "data": {
      "text/plain": [
       "['100', '101', '102']"
      ]
     },
     "execution_count": 30,
     "metadata": {},
     "output_type": "execute_result"
    }
   ],
   "source": [
    "# 숫자만 추출\n",
    "re.findall('\\d+', text)"
   ]
  },
  {
   "cell_type": "code",
   "execution_count": 34,
   "id": "0c2c5795",
   "metadata": {},
   "outputs": [
    {
     "data": {
      "text/plain": [
       "['John', 'James', 'Mac']"
      ]
     },
     "execution_count": 34,
     "metadata": {},
     "output_type": "execute_result"
    }
   ],
   "source": [
    "# 문자만 추출\n",
    "re.findall('[A-Z][a-z]+', text)"
   ]
  },
  {
   "cell_type": "code",
   "execution_count": 36,
   "id": "22bc3895",
   "metadata": {},
   "outputs": [
    {
     "data": {
      "text/plain": [
       "['PROF', 'STUD', 'STUD']"
      ]
     },
     "execution_count": 36,
     "metadata": {},
     "output_type": "execute_result"
    }
   ],
   "source": [
    "# 문자만 추출\n",
    "re.findall('[A-Z][A-Z]+', text)"
   ]
  }
 ],
 "metadata": {
  "kernelspec": {
   "display_name": "Python 3 (ipykernel)",
   "language": "python",
   "name": "python3"
  },
  "language_info": {
   "codemirror_mode": {
    "name": "ipython",
    "version": 3
   },
   "file_extension": ".py",
   "mimetype": "text/x-python",
   "name": "python",
   "nbconvert_exporter": "python",
   "pygments_lexer": "ipython3",
   "version": "3.7.11"
  }
 },
 "nbformat": 4,
 "nbformat_minor": 5
}
