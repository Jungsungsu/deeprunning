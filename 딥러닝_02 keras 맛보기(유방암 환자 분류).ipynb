{
 "cells": [
  {
   "cell_type": "markdown",
   "id": "8503b17c",
   "metadata": {},
   "source": [
    "### 목표\n",
    " - 환자 데이터를 바탕으로 유방암인지 아닌지를 구분해보자!(2진분류)"
   ]
  },
  {
   "cell_type": "code",
   "execution_count": 1,
   "id": "f80a8244",
   "metadata": {},
   "outputs": [],
   "source": [
    "import numpy as np\n",
    "import pandas as pd\n",
    "import matplotlib.pyplot as plt\n",
    "from sklearn.datasets import load_breast_cancer"
   ]
  },
  {
   "cell_type": "code",
   "execution_count": 2,
   "id": "757d042b",
   "metadata": {},
   "outputs": [
    {
     "data": {
      "text/plain": [
       "{'data': array([[1.799e+01, 1.038e+01, 1.228e+02, ..., 2.654e-01, 4.601e-01,\n",
       "         1.189e-01],\n",
       "        [2.057e+01, 1.777e+01, 1.329e+02, ..., 1.860e-01, 2.750e-01,\n",
       "         8.902e-02],\n",
       "        [1.969e+01, 2.125e+01, 1.300e+02, ..., 2.430e-01, 3.613e-01,\n",
       "         8.758e-02],\n",
       "        ...,\n",
       "        [1.660e+01, 2.808e+01, 1.083e+02, ..., 1.418e-01, 2.218e-01,\n",
       "         7.820e-02],\n",
       "        [2.060e+01, 2.933e+01, 1.401e+02, ..., 2.650e-01, 4.087e-01,\n",
       "         1.240e-01],\n",
       "        [7.760e+00, 2.454e+01, 4.792e+01, ..., 0.000e+00, 2.871e-01,\n",
       "         7.039e-02]]),\n",
       " 'target': array([0, 0, 0, 0, 0, 0, 0, 0, 0, 0, 0, 0, 0, 0, 0, 0, 0, 0, 0, 1, 1, 1,\n",
       "        0, 0, 0, 0, 0, 0, 0, 0, 0, 0, 0, 0, 0, 0, 0, 1, 0, 0, 0, 0, 0, 0,\n",
       "        0, 0, 1, 0, 1, 1, 1, 1, 1, 0, 0, 1, 0, 0, 1, 1, 1, 1, 0, 1, 0, 0,\n",
       "        1, 1, 1, 1, 0, 1, 0, 0, 1, 0, 1, 0, 0, 1, 1, 1, 0, 0, 1, 0, 0, 0,\n",
       "        1, 1, 1, 0, 1, 1, 0, 0, 1, 1, 1, 0, 0, 1, 1, 1, 1, 0, 1, 1, 0, 1,\n",
       "        1, 1, 1, 1, 1, 1, 1, 0, 0, 0, 1, 0, 0, 1, 1, 1, 0, 0, 1, 0, 1, 0,\n",
       "        0, 1, 0, 0, 1, 1, 0, 1, 1, 0, 1, 1, 1, 1, 0, 1, 1, 1, 1, 1, 1, 1,\n",
       "        1, 1, 0, 1, 1, 1, 1, 0, 0, 1, 0, 1, 1, 0, 0, 1, 1, 0, 0, 1, 1, 1,\n",
       "        1, 0, 1, 1, 0, 0, 0, 1, 0, 1, 0, 1, 1, 1, 0, 1, 1, 0, 0, 1, 0, 0,\n",
       "        0, 0, 1, 0, 0, 0, 1, 0, 1, 0, 1, 1, 0, 1, 0, 0, 0, 0, 1, 1, 0, 0,\n",
       "        1, 1, 1, 0, 1, 1, 1, 1, 1, 0, 0, 1, 1, 0, 1, 1, 0, 0, 1, 0, 1, 1,\n",
       "        1, 1, 0, 1, 1, 1, 1, 1, 0, 1, 0, 0, 0, 0, 0, 0, 0, 0, 0, 0, 0, 0,\n",
       "        0, 0, 1, 1, 1, 1, 1, 1, 0, 1, 0, 1, 1, 0, 1, 1, 0, 1, 0, 0, 1, 1,\n",
       "        1, 1, 1, 1, 1, 1, 1, 1, 1, 1, 1, 0, 1, 1, 0, 1, 0, 1, 1, 1, 1, 1,\n",
       "        1, 1, 1, 1, 1, 1, 1, 1, 1, 0, 1, 1, 1, 0, 1, 0, 1, 1, 1, 1, 0, 0,\n",
       "        0, 1, 1, 1, 1, 0, 1, 0, 1, 0, 1, 1, 1, 0, 1, 1, 1, 1, 1, 1, 1, 0,\n",
       "        0, 0, 1, 1, 1, 1, 1, 1, 1, 1, 1, 1, 1, 0, 0, 1, 0, 0, 0, 1, 0, 0,\n",
       "        1, 1, 1, 1, 1, 0, 1, 1, 1, 1, 1, 0, 1, 1, 1, 0, 1, 1, 0, 0, 1, 1,\n",
       "        1, 1, 1, 1, 0, 1, 1, 1, 1, 1, 1, 1, 0, 1, 1, 1, 1, 1, 0, 1, 1, 0,\n",
       "        1, 1, 1, 1, 1, 1, 1, 1, 1, 1, 1, 1, 0, 1, 0, 0, 1, 0, 1, 1, 1, 1,\n",
       "        1, 0, 1, 1, 0, 1, 0, 1, 1, 0, 1, 0, 1, 1, 1, 1, 1, 1, 1, 1, 0, 0,\n",
       "        1, 1, 1, 1, 1, 1, 0, 1, 1, 1, 1, 1, 1, 1, 1, 1, 1, 0, 1, 1, 1, 1,\n",
       "        1, 1, 1, 0, 1, 0, 1, 1, 0, 1, 1, 1, 1, 1, 0, 0, 1, 0, 1, 0, 1, 1,\n",
       "        1, 1, 1, 0, 1, 1, 0, 1, 0, 1, 0, 0, 1, 1, 1, 0, 1, 1, 1, 1, 1, 1,\n",
       "        1, 1, 1, 1, 1, 0, 1, 0, 0, 1, 1, 1, 1, 1, 1, 1, 1, 1, 1, 1, 1, 1,\n",
       "        1, 1, 1, 1, 1, 1, 1, 1, 1, 1, 1, 1, 0, 0, 0, 0, 0, 0, 1]),\n",
       " 'frame': None,\n",
       " 'target_names': array(['malignant', 'benign'], dtype='<U9'),\n",
       " 'DESCR': '.. _breast_cancer_dataset:\\n\\nBreast cancer wisconsin (diagnostic) dataset\\n--------------------------------------------\\n\\n**Data Set Characteristics:**\\n\\n    :Number of Instances: 569\\n\\n    :Number of Attributes: 30 numeric, predictive attributes and the class\\n\\n    :Attribute Information:\\n        - radius (mean of distances from center to points on the perimeter)\\n        - texture (standard deviation of gray-scale values)\\n        - perimeter\\n        - area\\n        - smoothness (local variation in radius lengths)\\n        - compactness (perimeter^2 / area - 1.0)\\n        - concavity (severity of concave portions of the contour)\\n        - concave points (number of concave portions of the contour)\\n        - symmetry\\n        - fractal dimension (\"coastline approximation\" - 1)\\n\\n        The mean, standard error, and \"worst\" or largest (mean of the three\\n        worst/largest values) of these features were computed for each image,\\n        resulting in 30 features.  For instance, field 0 is Mean Radius, field\\n        10 is Radius SE, field 20 is Worst Radius.\\n\\n        - class:\\n                - WDBC-Malignant\\n                - WDBC-Benign\\n\\n    :Summary Statistics:\\n\\n    ===================================== ====== ======\\n                                           Min    Max\\n    ===================================== ====== ======\\n    radius (mean):                        6.981  28.11\\n    texture (mean):                       9.71   39.28\\n    perimeter (mean):                     43.79  188.5\\n    area (mean):                          143.5  2501.0\\n    smoothness (mean):                    0.053  0.163\\n    compactness (mean):                   0.019  0.345\\n    concavity (mean):                     0.0    0.427\\n    concave points (mean):                0.0    0.201\\n    symmetry (mean):                      0.106  0.304\\n    fractal dimension (mean):             0.05   0.097\\n    radius (standard error):              0.112  2.873\\n    texture (standard error):             0.36   4.885\\n    perimeter (standard error):           0.757  21.98\\n    area (standard error):                6.802  542.2\\n    smoothness (standard error):          0.002  0.031\\n    compactness (standard error):         0.002  0.135\\n    concavity (standard error):           0.0    0.396\\n    concave points (standard error):      0.0    0.053\\n    symmetry (standard error):            0.008  0.079\\n    fractal dimension (standard error):   0.001  0.03\\n    radius (worst):                       7.93   36.04\\n    texture (worst):                      12.02  49.54\\n    perimeter (worst):                    50.41  251.2\\n    area (worst):                         185.2  4254.0\\n    smoothness (worst):                   0.071  0.223\\n    compactness (worst):                  0.027  1.058\\n    concavity (worst):                    0.0    1.252\\n    concave points (worst):               0.0    0.291\\n    symmetry (worst):                     0.156  0.664\\n    fractal dimension (worst):            0.055  0.208\\n    ===================================== ====== ======\\n\\n    :Missing Attribute Values: None\\n\\n    :Class Distribution: 212 - Malignant, 357 - Benign\\n\\n    :Creator:  Dr. William H. Wolberg, W. Nick Street, Olvi L. Mangasarian\\n\\n    :Donor: Nick Street\\n\\n    :Date: November, 1995\\n\\nThis is a copy of UCI ML Breast Cancer Wisconsin (Diagnostic) datasets.\\nhttps://goo.gl/U2Uwz2\\n\\nFeatures are computed from a digitized image of a fine needle\\naspirate (FNA) of a breast mass.  They describe\\ncharacteristics of the cell nuclei present in the image.\\n\\nSeparating plane described above was obtained using\\nMultisurface Method-Tree (MSM-T) [K. P. Bennett, \"Decision Tree\\nConstruction Via Linear Programming.\" Proceedings of the 4th\\nMidwest Artificial Intelligence and Cognitive Science Society,\\npp. 97-101, 1992], a classification method which uses linear\\nprogramming to construct a decision tree.  Relevant features\\nwere selected using an exhaustive search in the space of 1-4\\nfeatures and 1-3 separating planes.\\n\\nThe actual linear program used to obtain the separating plane\\nin the 3-dimensional space is that described in:\\n[K. P. Bennett and O. L. Mangasarian: \"Robust Linear\\nProgramming Discrimination of Two Linearly Inseparable Sets\",\\nOptimization Methods and Software 1, 1992, 23-34].\\n\\nThis database is also available through the UW CS ftp server:\\n\\nftp ftp.cs.wisc.edu\\ncd math-prog/cpo-dataset/machine-learn/WDBC/\\n\\n.. topic:: References\\n\\n   - W.N. Street, W.H. Wolberg and O.L. Mangasarian. Nuclear feature extraction \\n     for breast tumor diagnosis. IS&T/SPIE 1993 International Symposium on \\n     Electronic Imaging: Science and Technology, volume 1905, pages 861-870,\\n     San Jose, CA, 1993.\\n   - O.L. Mangasarian, W.N. Street and W.H. Wolberg. Breast cancer diagnosis and \\n     prognosis via linear programming. Operations Research, 43(4), pages 570-577, \\n     July-August 1995.\\n   - W.H. Wolberg, W.N. Street, and O.L. Mangasarian. Machine learning techniques\\n     to diagnose breast cancer from fine-needle aspirates. Cancer Letters 77 (1994) \\n     163-171.',\n",
       " 'feature_names': array(['mean radius', 'mean texture', 'mean perimeter', 'mean area',\n",
       "        'mean smoothness', 'mean compactness', 'mean concavity',\n",
       "        'mean concave points', 'mean symmetry', 'mean fractal dimension',\n",
       "        'radius error', 'texture error', 'perimeter error', 'area error',\n",
       "        'smoothness error', 'compactness error', 'concavity error',\n",
       "        'concave points error', 'symmetry error',\n",
       "        'fractal dimension error', 'worst radius', 'worst texture',\n",
       "        'worst perimeter', 'worst area', 'worst smoothness',\n",
       "        'worst compactness', 'worst concavity', 'worst concave points',\n",
       "        'worst symmetry', 'worst fractal dimension'], dtype='<U23'),\n",
       " 'filename': 'breast_cancer.csv',\n",
       " 'data_module': 'sklearn.datasets.data'}"
      ]
     },
     "execution_count": 2,
     "metadata": {},
     "output_type": "execute_result"
    }
   ],
   "source": [
    "data = load_breast_cancer()\n",
    "data"
   ]
  },
  {
   "cell_type": "code",
   "execution_count": 3,
   "id": "7f59803c",
   "metadata": {},
   "outputs": [],
   "source": [
    "X = data.data\n",
    "y = data.target"
   ]
  },
  {
   "cell_type": "code",
   "execution_count": 4,
   "id": "ed0edf7f",
   "metadata": {},
   "outputs": [
    {
     "data": {
      "text/plain": [
       "((569, 30), (569,))"
      ]
     },
     "execution_count": 4,
     "metadata": {},
     "output_type": "execute_result"
    }
   ],
   "source": [
    "X.shape, y.shape"
   ]
  },
  {
   "cell_type": "code",
   "execution_count": 5,
   "id": "2c5cb551",
   "metadata": {},
   "outputs": [],
   "source": [
    "# 최종 평가까지 직접 해보세요~!"
   ]
  },
  {
   "cell_type": "code",
   "execution_count": 6,
   "id": "4d4c4abf",
   "metadata": {},
   "outputs": [],
   "source": [
    "from sklearn.model_selection import train_test_split\n",
    "\n",
    "X_train, X_test, y_train, y_test = train_test_split(X, y, random_state=11)"
   ]
  },
  {
   "cell_type": "code",
   "execution_count": 7,
   "id": "ac65293d",
   "metadata": {},
   "outputs": [
    {
     "name": "stdout",
     "output_type": "stream",
     "text": [
      "(426, 30)\n",
      "(143, 30)\n",
      "(426,)\n",
      "(143,)\n"
     ]
    }
   ],
   "source": [
    "print(X_train.shape)\n",
    "print(X_test.shape)\n",
    "print(y_train.shape)\n",
    "print(y_test.shape)"
   ]
  },
  {
   "cell_type": "code",
   "execution_count": 8,
   "id": "909c5630",
   "metadata": {},
   "outputs": [],
   "source": [
    "from tensorflow.keras import Sequential\n",
    "from tensorflow.keras.layers import Dense"
   ]
  },
  {
   "cell_type": "code",
   "execution_count": 9,
   "id": "ec4e727b",
   "metadata": {},
   "outputs": [
    {
     "name": "stdout",
     "output_type": "stream",
     "text": [
      "Model: \"sequential\"\n",
      "_________________________________________________________________\n",
      "Layer (type)                 Output Shape              Param #   \n",
      "=================================================================\n",
      "dense (Dense)                (None, 200)               6200      \n",
      "_________________________________________________________________\n",
      "dense_1 (Dense)              (None, 100)               20100     \n",
      "_________________________________________________________________\n",
      "dense_2 (Dense)              (None, 50)                5050      \n",
      "_________________________________________________________________\n",
      "dense_3 (Dense)              (None, 10)                510       \n",
      "_________________________________________________________________\n",
      "dense_4 (Dense)              (None, 1)                 11        \n",
      "=================================================================\n",
      "Total params: 31,871\n",
      "Trainable params: 31,871\n",
      "Non-trainable params: 0\n",
      "_________________________________________________________________\n"
     ]
    }
   ],
   "source": [
    "# 1. 신경망 구조 설계\n",
    "model = Sequential()\n",
    "\n",
    "# 입력층 + 중간층\n",
    "# relu : 최근에 가장 많이 사용하는 성능 좋은 활성화함수\n",
    "model.add(Dense(200, input_dim=30, activation='relu'))\n",
    "\n",
    "# 중간층(은닉층)\n",
    "model.add(Dense(100, activation='relu'))    # 하나의 층\n",
    "model.add(Dense(50, activation='relu'))    # 하나의 층\n",
    "model.add(Dense(10, activation='relu'))     # 하나의 층\n",
    "\n",
    "# 출력층\n",
    "model.add(Dense(1, activation='sigmoid'))\n",
    "\n",
    "model.summary()"
   ]
  },
  {
   "cell_type": "code",
   "execution_count": 10,
   "id": "c391e3cc",
   "metadata": {},
   "outputs": [],
   "source": [
    "# 2. 학습/평가방법 설정\n",
    "model.compile(loss='binary_crossentropy',\n",
    "              optimizer='Adam',       # 최근에 가장 많이 사용되는 최적화 함수\n",
    "              metrics=['acc']        \n",
    "             )"
   ]
  },
  {
   "cell_type": "code",
   "execution_count": 11,
   "id": "9d96e500",
   "metadata": {
    "collapsed": true
   },
   "outputs": [
    {
     "name": "stdout",
     "output_type": "stream",
     "text": [
      "Epoch 1/100\n",
      "14/14 [==============================] - 0s 641us/step - loss: 3.4593 - acc: 0.6362\n",
      "Epoch 2/100\n",
      "14/14 [==============================] - 0s 499us/step - loss: 0.5630 - acc: 0.8545\n",
      "Epoch 3/100\n",
      "14/14 [==============================] - 0s 570us/step - loss: 0.5011 - acc: 0.8592\n",
      "Epoch 4/100\n",
      "14/14 [==============================] - 0s 499us/step - loss: 0.5293 - acc: 0.8427\n",
      "Epoch 5/100\n",
      "14/14 [==============================] - 0s 641us/step - loss: 0.2559 - acc: 0.9131\n",
      "Epoch 6/100\n",
      "14/14 [==============================] - 0s 499us/step - loss: 0.2966 - acc: 0.8920\n",
      "Epoch 7/100\n",
      "14/14 [==============================] - 0s 499us/step - loss: 0.3417 - acc: 0.8873\n",
      "Epoch 8/100\n",
      "14/14 [==============================] - 0s 570us/step - loss: 0.2398 - acc: 0.9085\n",
      "Epoch 9/100\n",
      "14/14 [==============================] - 0s 570us/step - loss: 0.2206 - acc: 0.9085\n",
      "Epoch 10/100\n",
      "14/14 [==============================] - 0s 499us/step - loss: 0.2685 - acc: 0.9061\n",
      "Epoch 11/100\n",
      "14/14 [==============================] - 0s 570us/step - loss: 0.2402 - acc: 0.9131\n",
      "Epoch 12/100\n",
      "14/14 [==============================] - 0s 710us/step - loss: 0.2228 - acc: 0.9108\n",
      "Epoch 13/100\n",
      "14/14 [==============================] - 0s 570us/step - loss: 1.0514 - acc: 0.7676\n",
      "Epoch 14/100\n",
      "14/14 [==============================] - 0s 499us/step - loss: 0.6704 - acc: 0.8380\n",
      "Epoch 15/100\n",
      "14/14 [==============================] - 0s 499us/step - loss: 1.1739 - acc: 0.7746\n",
      "Epoch 16/100\n",
      "14/14 [==============================] - 0s 499us/step - loss: 1.3914 - acc: 0.8099\n",
      "Epoch 17/100\n",
      "14/14 [==============================] - 0s 784us/step - loss: 0.7813 - acc: 0.8357\n",
      "Epoch 18/100\n",
      "14/14 [==============================] - 0s 570us/step - loss: 0.3993 - acc: 0.8991\n",
      "Epoch 19/100\n",
      "14/14 [==============================] - 0s 499us/step - loss: 0.4789 - acc: 0.8803\n",
      "Epoch 20/100\n",
      "14/14 [==============================] - 0s 570us/step - loss: 0.3610 - acc: 0.8920\n",
      "Epoch 21/100\n",
      "14/14 [==============================] - 0s 641us/step - loss: 0.2703 - acc: 0.9038\n",
      "Epoch 22/100\n",
      "14/14 [==============================] - 0s 543us/step - loss: 0.2295 - acc: 0.9108\n",
      "Epoch 23/100\n",
      "14/14 [==============================] - 0s 499us/step - loss: 0.2297 - acc: 0.9178\n",
      "Epoch 24/100\n",
      "14/14 [==============================] - 0s 570us/step - loss: 0.2785 - acc: 0.8873\n",
      "Epoch 25/100\n",
      "14/14 [==============================] - 0s 499us/step - loss: 0.4157 - acc: 0.8967\n",
      "Epoch 26/100\n",
      "14/14 [==============================] - 0s 499us/step - loss: 0.3833 - acc: 0.8779\n",
      "Epoch 27/100\n",
      "14/14 [==============================] - 0s 641us/step - loss: 0.3051 - acc: 0.8826\n",
      "Epoch 28/100\n",
      "14/14 [==============================] - 0s 570us/step - loss: 0.2437 - acc: 0.9085\n",
      "Epoch 29/100\n",
      "14/14 [==============================] - 0s 499us/step - loss: 0.1988 - acc: 0.9272\n",
      "Epoch 30/100\n",
      "14/14 [==============================] - 0s 570us/step - loss: 0.2971 - acc: 0.8991\n",
      "Epoch 31/100\n",
      "14/14 [==============================] - 0s 499us/step - loss: 0.2039 - acc: 0.9085\n",
      "Epoch 32/100\n",
      "14/14 [==============================] - 0s 570us/step - loss: 0.2461 - acc: 0.9061\n",
      "Epoch 33/100\n",
      "14/14 [==============================] - 0s 499us/step - loss: 0.2247 - acc: 0.9085\n",
      "Epoch 34/100\n",
      "14/14 [==============================] - 0s 784us/step - loss: 0.1892 - acc: 0.9202\n",
      "Epoch 35/100\n",
      "14/14 [==============================] - 0s 499us/step - loss: 0.1917 - acc: 0.9272\n",
      "Epoch 36/100\n",
      "14/14 [==============================] - 0s 499us/step - loss: 0.2187 - acc: 0.9085\n",
      "Epoch 37/100\n",
      "14/14 [==============================] - 0s 570us/step - loss: 0.3318 - acc: 0.8873\n",
      "Epoch 38/100\n",
      "14/14 [==============================] - 0s 499us/step - loss: 0.3594 - acc: 0.8850\n",
      "Epoch 39/100\n",
      "14/14 [==============================] - 0s 499us/step - loss: 0.5335 - acc: 0.8404\n",
      "Epoch 40/100\n",
      "14/14 [==============================] - 0s 499us/step - loss: 0.4031 - acc: 0.8850\n",
      "Epoch 41/100\n",
      "14/14 [==============================] - 0s 855us/step - loss: 0.2981 - acc: 0.9014\n",
      "Epoch 42/100\n",
      "14/14 [==============================] - 0s 641us/step - loss: 0.2773 - acc: 0.9131\n",
      "Epoch 43/100\n",
      "14/14 [==============================] - 0s 499us/step - loss: 0.1939 - acc: 0.9366\n",
      "Epoch 44/100\n",
      "14/14 [==============================] - 0s 570us/step - loss: 0.1913 - acc: 0.9178\n",
      "Epoch 45/100\n",
      "14/14 [==============================] - 0s 570us/step - loss: 0.1875 - acc: 0.9225\n",
      "Epoch 46/100\n",
      "14/14 [==============================] - 0s 570us/step - loss: 0.3077 - acc: 0.8944\n",
      "Epoch 47/100\n",
      "14/14 [==============================] - 0s 570us/step - loss: 0.2771 - acc: 0.8991\n",
      "Epoch 48/100\n",
      "14/14 [==============================] - 0s 570us/step - loss: 0.3550 - acc: 0.8967\n",
      "Epoch 49/100\n",
      "14/14 [==============================] - 0s 570us/step - loss: 0.2515 - acc: 0.9108\n",
      "Epoch 50/100\n",
      "14/14 [==============================] - 0s 570us/step - loss: 0.4222 - acc: 0.8592\n",
      "Epoch 51/100\n",
      "14/14 [==============================] - 0s 499us/step - loss: 0.6925 - acc: 0.8310\n",
      "Epoch 52/100\n",
      "14/14 [==============================] - 0s 570us/step - loss: 0.2659 - acc: 0.9131\n",
      "Epoch 53/100\n",
      "14/14 [==============================] - 0s 570us/step - loss: 0.2449 - acc: 0.9014\n",
      "Epoch 54/100\n",
      "14/14 [==============================] - 0s 499us/step - loss: 0.2526 - acc: 0.8920\n",
      "Epoch 55/100\n",
      "14/14 [==============================] - 0s 570us/step - loss: 0.3337 - acc: 0.8920\n",
      "Epoch 56/100\n",
      "14/14 [==============================] - 0s 570us/step - loss: 0.2299 - acc: 0.9225\n",
      "Epoch 57/100\n",
      "14/14 [==============================] - 0s 570us/step - loss: 0.4361 - acc: 0.8638\n",
      "Epoch 58/100\n",
      "14/14 [==============================] - 0s 499us/step - loss: 0.6488 - acc: 0.8216\n",
      "Epoch 59/100\n",
      "14/14 [==============================] - 0s 499us/step - loss: 0.3429 - acc: 0.8920\n",
      "Epoch 60/100\n",
      "14/14 [==============================] - 0s 499us/step - loss: 0.3163 - acc: 0.8944\n",
      "Epoch 61/100\n",
      "14/14 [==============================] - 0s 499us/step - loss: 0.3002 - acc: 0.9038\n",
      "Epoch 62/100\n",
      "14/14 [==============================] - 0s 570us/step - loss: 0.4020 - acc: 0.8967\n",
      "Epoch 63/100\n",
      "14/14 [==============================] - 0s 499us/step - loss: 0.3688 - acc: 0.8873\n",
      "Epoch 64/100\n",
      "14/14 [==============================] - 0s 570us/step - loss: 0.2476 - acc: 0.9225\n",
      "Epoch 65/100\n",
      "14/14 [==============================] - 0s 499us/step - loss: 0.1954 - acc: 0.9272\n",
      "Epoch 66/100\n",
      "14/14 [==============================] - 0s 641us/step - loss: 0.1908 - acc: 0.9272\n",
      "Epoch 67/100\n",
      "14/14 [==============================] - 0s 570us/step - loss: 0.1828 - acc: 0.9225\n",
      "Epoch 68/100\n",
      "14/14 [==============================] - 0s 570us/step - loss: 0.1692 - acc: 0.9390\n",
      "Epoch 69/100\n",
      "14/14 [==============================] - 0s 570us/step - loss: 0.1775 - acc: 0.9366\n",
      "Epoch 70/100\n",
      "14/14 [==============================] - 0s 499us/step - loss: 0.1804 - acc: 0.9390\n",
      "Epoch 71/100\n",
      "14/14 [==============================] - 0s 499us/step - loss: 0.2330 - acc: 0.9085\n",
      "Epoch 72/100\n",
      "14/14 [==============================] - 0s 499us/step - loss: 0.2813 - acc: 0.8967\n",
      "Epoch 73/100\n",
      "14/14 [==============================] - 0s 855us/step - loss: 0.4126 - acc: 0.8568\n",
      "Epoch 74/100\n",
      "14/14 [==============================] - 0s 570us/step - loss: 0.2118 - acc: 0.9319\n",
      "Epoch 75/100\n",
      "14/14 [==============================] - 0s 570us/step - loss: 0.2047 - acc: 0.9249\n",
      "Epoch 76/100\n",
      "14/14 [==============================] - 0s 641us/step - loss: 0.1702 - acc: 0.9366\n",
      "Epoch 77/100\n",
      "14/14 [==============================] - 0s 499us/step - loss: 0.1776 - acc: 0.9343\n",
      "Epoch 78/100\n",
      "14/14 [==============================] - 0s 570us/step - loss: 0.1667 - acc: 0.9225\n",
      "Epoch 79/100\n",
      "14/14 [==============================] - 0s 570us/step - loss: 0.3506 - acc: 0.8803\n",
      "Epoch 80/100\n",
      "14/14 [==============================] - 0s 499us/step - loss: 0.4075 - acc: 0.8662\n",
      "Epoch 81/100\n",
      "14/14 [==============================] - 0s 499us/step - loss: 0.2656 - acc: 0.9061\n",
      "Epoch 82/100\n",
      "14/14 [==============================] - 0s 641us/step - loss: 0.2016 - acc: 0.9296\n",
      "Epoch 83/100\n",
      "14/14 [==============================] - 0s 570us/step - loss: 0.1592 - acc: 0.9413\n",
      "Epoch 84/100\n",
      "14/14 [==============================] - 0s 499us/step - loss: 0.2861 - acc: 0.9085\n",
      "Epoch 85/100\n",
      "14/14 [==============================] - 0s 499us/step - loss: 0.2575 - acc: 0.9108\n",
      "Epoch 86/100\n",
      "14/14 [==============================] - 0s 570us/step - loss: 0.3607 - acc: 0.8920\n",
      "Epoch 87/100\n",
      "14/14 [==============================] - 0s 641us/step - loss: 0.1936 - acc: 0.9249\n",
      "Epoch 88/100\n",
      "14/14 [==============================] - 0s 499us/step - loss: 0.1722 - acc: 0.9296\n",
      "Epoch 89/100\n",
      "14/14 [==============================] - 0s 499us/step - loss: 0.2818 - acc: 0.8873\n",
      "Epoch 90/100\n",
      "14/14 [==============================] - 0s 570us/step - loss: 0.2246 - acc: 0.9155\n",
      "Epoch 91/100\n",
      "14/14 [==============================] - 0s 499us/step - loss: 0.1629 - acc: 0.9413\n",
      "Epoch 92/100\n",
      "14/14 [==============================] - 0s 499us/step - loss: 0.2196 - acc: 0.9202\n",
      "Epoch 93/100\n",
      "14/14 [==============================] - 0s 499us/step - loss: 0.1662 - acc: 0.9343\n",
      "Epoch 94/100\n",
      "14/14 [==============================] - 0s 499us/step - loss: 0.1749 - acc: 0.9319\n",
      "Epoch 95/100\n",
      "14/14 [==============================] - 0s 499us/step - loss: 0.1864 - acc: 0.9272\n",
      "Epoch 96/100\n",
      "14/14 [==============================] - 0s 499us/step - loss: 0.1573 - acc: 0.9343\n",
      "Epoch 97/100\n",
      "14/14 [==============================] - 0s 641us/step - loss: 0.3072 - acc: 0.8920\n",
      "Epoch 98/100\n",
      "14/14 [==============================] - 0s 499us/step - loss: 0.2219 - acc: 0.9202\n",
      "Epoch 99/100\n",
      "14/14 [==============================] - 0s 499us/step - loss: 0.1899 - acc: 0.9249\n",
      "Epoch 100/100\n",
      "14/14 [==============================] - 0s 499us/step - loss: 0.2072 - acc: 0.9225\n"
     ]
    }
   ],
   "source": [
    "# 3. 학습\n",
    "h = model.fit(X_train, y_train,\n",
    "              epochs=100        # 학습 횟수 설정\n",
    "             )"
   ]
  },
  {
   "cell_type": "code",
   "execution_count": 12,
   "id": "b6261302",
   "metadata": {
    "scrolled": true
   },
   "outputs": [
    {
     "data": {
      "image/png": "[encoded data removed]",
      "text/plain": [
       "<Figure size 1080x360 with 1 Axes>"
      ]
     },
     "metadata": {
      "needs_background": "light"
     },
     "output_type": "display_data"
    }
   ],
   "source": [
    "# 3. 시각화\n",
    "plt.figure(figsize=(15,5))\n",
    "\n",
    "plt.plot(h.history['acc'], label='acc')    \n",
    "\n",
    "plt.legend(prop={'size':20}, loc='lower center')\n",
    "plt.show()"
   ]
  },
  {
   "cell_type": "code",
   "execution_count": 13,
   "id": "2aeff1a6",
   "metadata": {},
   "outputs": [
    {
     "name": "stdout",
     "output_type": "stream",
     "text": [
      "5/5 [==============================] - 0s 529us/step - loss: 0.1258 - acc: 0.9580\n"
     ]
    },
    {
     "data": {
      "text/plain": [
       "[0.12581945955753326, 0.9580419659614563]"
      ]
     },
     "execution_count": 13,
     "metadata": {},
     "output_type": "execute_result"
    }
   ],
   "source": [
    "# 4. 모델 평가\n",
    "model.evaluate(X_test, y_test)"
   ]
  }
 ],
 "metadata": {
  "kernelspec": {
   "display_name": "Python 3 (ipykernel)",
   "language": "python",
   "name": "python3"
  },
  "language_info": {
   "codemirror_mode": {
    "name": "ipython",
    "version": 3
   },
   "file_extension": ".py",
   "mimetype": "text/x-python",
   "name": "python",
   "nbconvert_exporter": "python",
   "pygments_lexer": "ipython3",
   "version": "3.7.11"
  }
 },
 "nbformat": 4,
 "nbformat_minor": 5
}
