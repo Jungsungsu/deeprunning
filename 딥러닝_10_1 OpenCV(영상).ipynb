{
 "cells": [
  {
   "cell_type": "markdown",
   "id": "c534d031",
   "metadata": {},
   "source": [
    "### 카메라부터 비디오 프레임 캡쳐하기"
   ]
  },
  {
   "cell_type": "code",
   "execution_count": null,
   "id": "dd658ba4",
   "metadata": {},
   "outputs": [],
   "source": [
    "import cv2\n",
    "\n",
    "try:\n",
    "    cap = cv2.VideoCapture('./images/video.mp4')\n",
    "    print('카메라를 구동합니다.')\n",
    "except:\n",
    "    print('카메라 구동 실패')\n",
    "\n",
    "cap.set(3, 480)\n",
    "cap.set(4, 320)\n",
    "\n",
    "while True:\n",
    "    ret, frame = cap.read()\n",
    "    \n",
    "    if not ret:\n",
    "        print(\"비디오 읽기 오류\")\n",
    "        cap.release()\n",
    "        cv2.destroyAllWindows()\n",
    "        break\n",
    "    \n",
    "    cv2.imshow('video', frame)\n",
    "    k = cv2.waitKey(30)\n",
    "    \n",
    "    if k == 49:   # 숫자 1 (아스키코드 49)\n",
    "        cap.release()\n",
    "        cv2.destroyAllWindows()\n",
    "        break"
   ]
  },
  {
   "cell_type": "markdown",
   "id": "69ba8dda",
   "metadata": {},
   "source": [
    "- cv2.VideoCapture(0) : 0번 카메라로부터 비디오 캡쳐\n",
    "    - 0 대신에 파일명을 입력하면 동영상으로 부터 캡쳐\n",
    "    - c2.VideoCapture(\"./imagees/video.mp4\")\n",
    "    \n",
    "- cap.set(3, ?) / cap.set(4, ?) : 비디오의 가로/세로 길이\n",
    "- ret, frame :  cap.read() : 카메라로부터 비디오 파일을 읽고 프레임(frame)과 읽기여부(ret)을 반환\n",
    "- cv2.waitKey(30) : 0.03초 동안 키 입력을 대기\n",
    "- cap.release() : 비디오를 종료한다. (메모리해제)"
   ]
  },
  {
   "cell_type": "markdown",
   "id": "c388cc8c",
   "metadata": {},
   "source": [
    "### 녹화하기"
   ]
  },
  {
   "cell_type": "code",
   "execution_count": 2,
   "id": "6f6f7f8f",
   "metadata": {},
   "outputs": [
    {
     "name": "stdout",
     "output_type": "stream",
     "text": [
      "카메라를 구동합니다.\n"
     ]
    }
   ],
   "source": [
    "import cv2\n",
    "\n",
    "try:\n",
    "    cap = cv2.VideoCapture('./images/video.mp4')\n",
    "    print('카메라를 구동합니다.')\n",
    "except:\n",
    "    print('카메라 구동 실패')\n",
    "\n",
    "cap.set(3, 480)\n",
    "cap.set(4, 320)\n",
    "\n",
    "width = int(cap.get(3))\n",
    "height = int(cap.get(4))\n",
    "    \n",
    "fps = 30.0\n",
    "fcc = cv2.VideoWriter_fourcc('D','I','V','X')\n",
    "\n",
    "out = cv2.VideoWriter('video01.mp4', fcc, fps, (width, height))\n",
    "    \n",
    "    \n",
    "record = False\n",
    "\n",
    "while True:\n",
    "    ret, frame = cap.read()\n",
    "    \n",
    "    if not ret:\n",
    "        print(\"비디오 읽기 오류\")\n",
    "        cap.release()\n",
    "        cv2.destroyAllWindows()\n",
    "        break\n",
    "    \n",
    "    cv2.imshow('video', frame)\n",
    "    \n",
    "    if record:\n",
    "        out.write(frame)\n",
    "    \n",
    "    k = cv2.waitKey(30)\n",
    "    \n",
    "    if k == 49:   # 숫자 1 (아스키코드 49)\n",
    "        cap.release()\n",
    "        out.release()\n",
    "        cv2.destroyAllWindows()\n",
    "        break\n",
    "        \n",
    "    if k == 50: # 숫자 2\n",
    "        record = True"
   ]
  },
  {
   "cell_type": "markdown",
   "id": "5f261982",
   "metadata": {},
   "source": [
    "- cv2.VideoWriter('video01.mp4', fcc, fps, (width, height))\n",
    "- cv2.VideoWriter('저장위치 및 파일명, 코덱, 프레임, (가로,세로))\n",
    "  \n",
    "- cv2.VideoWriter_fourcc('D', 'I', 'V', 'X') : 비디오 타입을 DIVX로 설정\n",
    "  - 코덱종류 : DIVX, XVID, MJPG, X264\n",
    "  \n",
    "- out.write(frame) : 녹화하기"
   ]
  },
  {
   "cell_type": "markdown",
   "id": "8311572b",
   "metadata": {},
   "source": [
    "### 비디오의 한 프레임을 이미지 파일로 저장하기"
   ]
  },
  {
   "cell_type": "code",
   "execution_count": 3,
   "id": "eacd21d0",
   "metadata": {},
   "outputs": [
    {
     "name": "stdout",
     "output_type": "stream",
     "text": [
      "카메라를 구동합니다.\n"
     ]
    }
   ],
   "source": [
    "import cv2\n",
    "\n",
    "try:\n",
    "    cap = cv2.VideoCapture('./images/video.mp4')\n",
    "    print('카메라를 구동합니다.')\n",
    "except:\n",
    "    print('카메라 구동 실패')\n",
    "\n",
    "cap.set(3, 480)\n",
    "cap.set(4, 320)\n",
    "\n",
    "cnt = 0\n",
    "\n",
    "while True:\n",
    "    ret, frame = cap.read()\n",
    "    \n",
    "    if not ret:\n",
    "        print(\"비디오 읽기 오류\")\n",
    "        cap.release()\n",
    "        cv2.destroyAllWindows()\n",
    "        break\n",
    "    \n",
    "    cv2.imshow('video', frame)\n",
    "    k = cv2.waitKey(30)\n",
    "    \n",
    "    if k == 50:\n",
    "        cv2.imwrite('img{}.png'.format(cnt), frame, params = [cv2.IMWRITE_PNG_COMPRESSION, 0])\n",
    "        cnt+=1\n",
    "    \n",
    "    if k == 49:   # 숫자 1 (아스키코드 49)\n",
    "        cap.release()\n",
    "        cv2.destroyAllWindows()\n",
    "        break"
   ]
  }
 ],
 "metadata": {
  "kernelspec": {
   "display_name": "Python 3 (ipykernel)",
   "language": "python",
   "name": "python3"
  },
  "language_info": {
   "codemirror_mode": {
    "name": "ipython",
    "version": 3
   },
   "file_extension": ".py",
   "mimetype": "text/x-python",
   "name": "python",
   "nbconvert_exporter": "python",
   "pygments_lexer": "ipython3",
   "version": "3.7.11"
  }
 },
 "nbformat": 4,
 "nbformat_minor": 5
}
