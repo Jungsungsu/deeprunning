{
 "cells": [
  {
   "cell_type": "markdown",
   "id": "fa150e86",
   "metadata": {},
   "source": [
    "- 데이터가 복잡하고 양이 많다면 클라우드환경(ex 구글코랩, 구글드라이브)에 업로드 하는 시간이 매우 오래걸림\n",
    "- 로컬에서 빠르게 이미지 파일들을 수치화 시켜주고 그 결과를 NPZ(numpy zip) 파일로 저장\n",
    "- 클라우드 환경에서는 수치화된 NPZ파일만 사용을 하면 훨씬 효율적으로 작업할 수 있음"
   ]
  },
  {
   "cell_type": "markdown",
   "id": "084ae00d",
   "metadata": {},
   "source": [
    "### 개, 고양이 데이터를 NPZ파일로 생성!"
   ]
  },
  {
   "cell_type": "code",
   "execution_count": 1,
   "id": "2a885d60",
   "metadata": {},
   "outputs": [],
   "source": [
    "import numpy as np\n",
    "import pandas as pd\n",
    "import matplotlib.pyplot as plt\n",
    "\n",
    "from PIL import Image \n",
    "from sklearn.model_selection import train_test_split\n",
    "# os : 파일, 폴더 처리에 관련된 라이브러리\n",
    "import os"
   ]
  },
  {
   "cell_type": "code",
   "execution_count": 2,
   "id": "06fc6fcb",
   "metadata": {
    "scrolled": true
   },
   "outputs": [],
   "source": [
    "# cats_and_dogs_filltered 폴더 내의 각각의 데이터 셋들의 경로를 설정\n",
    "train_cats_dir = 'data/cats_and_dogs_filtered/train/cats/'\n",
    "train_dogs_dir = 'data/cats_and_dogs_filtered/train/dogs/'\n",
    "test_cats_dir = 'data/cats_and_dogs_filtered/test/cats/'\n",
    "test_dogs_dir = 'data/cats_and_dogs_filtered/test/dogs/'"
   ]
  },
  {
   "cell_type": "code",
   "execution_count": 3,
   "id": "72ee8c24",
   "metadata": {},
   "outputs": [],
   "source": [
    "# os.listdir : 해당 경로에 있는 파일명들을 리스트에 순서대로 저장\n",
    "train_cats_fnames = os.listdir(train_cats_dir)\n",
    "train_dogs_fnames = os.listdir(train_dogs_dir)\n",
    "test_cats_fnames = os.listdir(test_cats_dir)\n",
    "test_dogs_fnames = os.listdir(test_dogs_dir)"
   ]
  },
  {
   "cell_type": "code",
   "execution_count": 8,
   "id": "683924d9",
   "metadata": {},
   "outputs": [
    {
     "data": {
      "text/plain": [
       "'cat.2001.jpg'"
      ]
     },
     "execution_count": 8,
     "metadata": {},
     "output_type": "execute_result"
    }
   ],
   "source": [
    "test_cats_fnames[1]"
   ]
  },
  {
   "cell_type": "code",
   "execution_count": 9,
   "id": "b3ad1ad2",
   "metadata": {},
   "outputs": [
    {
     "data": {
      "text/plain": [
       "'data/cats_and_dogs_filtered/test/cats/cat.2001.jpg'"
      ]
     },
     "execution_count": 9,
     "metadata": {},
     "output_type": "execute_result"
    }
   ],
   "source": [
    "# os.path.join : 파일 경로와 데이터(이미지) 이름을 결합\n",
    "test_path = os.path.join(test_cats_dir, test_cats_fnames[1])\n",
    "test_path"
   ]
  },
  {
   "cell_type": "code",
   "execution_count": 10,
   "id": "e33a1291",
   "metadata": {},
   "outputs": [],
   "source": [
    "# 사진을 로딩하는 함수\n",
    "# 사진의 크기는 224 X 224로 고정시켜주기\n",
    "def load_images(folder_path, file_names, img_size_shape=(224,224)) :\n",
    "    images = []\n",
    "    \n",
    "    for i in file_names :\n",
    "        # 폴더 경로 + 파일명 합치기\n",
    "        path = os.path.join(folder_path, i)\n",
    "        # 파일 오픈 및 크기조정(resize : 파일의 사이즈를 변형시켜줌)\n",
    "        img = Image.open(path).resize(img_size_shape)\n",
    "        # numpy 배열로 변경 후 리스트에 저장\n",
    "        images.append(np.array(img))\n",
    "    \n",
    "    return np.array(images)"
   ]
  },
  {
   "cell_type": "code",
   "execution_count": 12,
   "id": "36ff4711",
   "metadata": {},
   "outputs": [],
   "source": [
    "X_train_cats = load_images(train_cats_dir, train_cats_fnames)\n",
    "X_train_dogs = load_images(train_dogs_dir, train_dogs_fnames)\n",
    "X_test_cats = load_images(test_cats_dir, test_cats_fnames)\n",
    "X_test_dogs = load_images(test_dogs_dir, test_dogs_fnames)"
   ]
  },
  {
   "cell_type": "code",
   "execution_count": 14,
   "id": "b80780f8",
   "metadata": {},
   "outputs": [
    {
     "name": "stdout",
     "output_type": "stream",
     "text": [
      "(1000, 224, 224, 3)\n",
      "(1000, 224, 224, 3)\n",
      "(500, 224, 224, 3)\n",
      "(500, 224, 224, 3)\n"
     ]
    }
   ],
   "source": [
    "print(X_train_cats.shape)\n",
    "print(X_train_dogs.shape)\n",
    "print(X_test_cats.shape)\n",
    "print(X_test_dogs.shape)"
   ]
  },
  {
   "cell_type": "code",
   "execution_count": 15,
   "id": "da185abe",
   "metadata": {},
   "outputs": [],
   "source": [
    "# 데이터 병합\n",
    "# 고양이, 개 이미지 배열 데이터를 순서대로 합쳐줌\n",
    "X_train = np.concatenate((X_train_cats, X_train_dogs))\n",
    "X_test = np.concatenate((X_test_cats, X_test_dogs))"
   ]
  },
  {
   "cell_type": "code",
   "execution_count": 16,
   "id": "453f6de9",
   "metadata": {},
   "outputs": [
    {
     "data": {
      "text/plain": [
       "((2000, 224, 224, 3), (1000, 224, 224, 3))"
      ]
     },
     "execution_count": 16,
     "metadata": {},
     "output_type": "execute_result"
    }
   ],
   "source": [
    "# 문제 데이터 생성 완료!\n",
    "X_train.shape, X_test.shape"
   ]
  },
  {
   "cell_type": "code",
   "execution_count": 21,
   "id": "8a609148",
   "metadata": {},
   "outputs": [],
   "source": [
    "# 정답 데이터 만들기(고양이:0, 개:1)\n",
    "y_train = np.array([0]*1000 + [1]*1000)\n",
    "y_test = np.array([0]*500 + [1]*500)"
   ]
  },
  {
   "cell_type": "code",
   "execution_count": 23,
   "id": "a4b4e497",
   "metadata": {},
   "outputs": [
    {
     "data": {
      "text/plain": [
       "((2000,), (1000,))"
      ]
     },
     "execution_count": 23,
     "metadata": {},
     "output_type": "execute_result"
    }
   ],
   "source": [
    "y_train.shape, y_test.shape"
   ]
  },
  {
   "cell_type": "code",
   "execution_count": null,
   "id": "f303fe18",
   "metadata": {},
   "outputs": [],
   "source": [
    "# 학습, 평가 데이터 분리\n",
    "from sklearn.model_selection import train_test_split\n",
    "\n",
    "X_train, X_test, y_train, y_test = train_test_split(data,\n",
    "                                                    target,\n",
    "                                                    test_size=0.2,\n",
    "                                                    random_state=10\n",
    "                                                    )"
   ]
  },
  {
   "cell_type": "markdown",
   "id": "66dc0e6b",
   "metadata": {},
   "source": [
    "- npz 파일 생성"
   ]
  },
  {
   "cell_type": "code",
   "execution_count": 25,
   "id": "8b457b43",
   "metadata": {},
   "outputs": [],
   "source": [
    "np.savez_compressed('data/cats_and_dogs.npz', # 폴더 경로와 저장될 파일명 설정\n",
    "                    X_train = X_train,        # 학습용 문제 데이터\n",
    "                    X_test = X_test,          # 평가용 문제 데이터\n",
    "                    y_train = y_train,        # 학습용 정답 데이터\n",
    "                    y_test = y_test          # 평가용 정답 데이터\n",
    "                   )"
   ]
  }
 ],
 "metadata": {
  "kernelspec": {
   "display_name": "Python 3 (ipykernel)",
   "language": "python",
   "name": "python3"
  },
  "language_info": {
   "codemirror_mode": {
    "name": "ipython",
    "version": 3
   },
   "file_extension": ".py",
   "mimetype": "text/x-python",
   "name": "python",
   "nbconvert_exporter": "python",
   "pygments_lexer": "ipython3",
   "version": "3.7.11"
  }
 },
 "nbformat": 4,
 "nbformat_minor": 5
}
