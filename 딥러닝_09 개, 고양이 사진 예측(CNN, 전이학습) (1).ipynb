{
 "cells": [
  {
   "cell_type": "markdown",
   "id": "c628ae0e",
   "metadata": {},
   "source": [
    "- npz파일 로딩"
   ]
  },
  {
   "cell_type": "code",
   "execution_count": 1,
   "id": "4b3b0d1a",
   "metadata": {},
   "outputs": [],
   "source": [
    "import numpy as np\n",
    "import pandas as pd\n",
    "import matplotlib.pyplot as plt"
   ]
  },
  {
   "cell_type": "code",
   "execution_count": 2,
   "id": "68d576d5",
   "metadata": {},
   "outputs": [],
   "source": [
    "data = np.load('data/cats_and_dogs.npz')"
   ]
  },
  {
   "cell_type": "code",
   "execution_count": 3,
   "id": "e2e4aae9",
   "metadata": {},
   "outputs": [
    {
     "data": {
      "text/plain": [
       "4"
      ]
     },
     "execution_count": 3,
     "metadata": {},
     "output_type": "execute_result"
    }
   ],
   "source": [
    "len(data)"
   ]
  },
  {
   "cell_type": "code",
   "execution_count": 4,
   "id": "c94f1eeb",
   "metadata": {},
   "outputs": [],
   "source": [
    "X_train = data['X_train']\n",
    "X_test = data['X_test']\n",
    "y_train = data['y_train']\n",
    "y_test = data['y_test']"
   ]
  },
  {
   "cell_type": "code",
   "execution_count": 5,
   "id": "1a75aff8",
   "metadata": {},
   "outputs": [
    {
     "name": "stdout",
     "output_type": "stream",
     "text": [
      "(2000, 224, 224, 3)\n",
      "(1000, 224, 224, 3)\n",
      "(2000,)\n",
      "(1000,)\n"
     ]
    }
   ],
   "source": [
    "print(X_train.shape)\n",
    "print(X_test.shape)\n",
    "print(y_train.shape)\n",
    "print(y_test.shape)"
   ]
  },
  {
   "cell_type": "markdown",
   "id": "bbf50277",
   "metadata": {},
   "source": [
    "- 검증용 데이터셋 분리시켜주기"
   ]
  },
  {
   "cell_type": "code",
   "execution_count": 6,
   "id": "1c539081",
   "metadata": {},
   "outputs": [],
   "source": [
    "from sklearn.model_selection import train_test_split"
   ]
  },
  {
   "cell_type": "code",
   "execution_count": 7,
   "id": "dadd550d",
   "metadata": {},
   "outputs": [],
   "source": [
    "X_train, X_val, y_train, y_val = train_test_split(X_train, y_train,\n",
    "                                                  random_state=5\n",
    "                                                 )"
   ]
  },
  {
   "cell_type": "code",
   "execution_count": 8,
   "id": "9fee9662",
   "metadata": {},
   "outputs": [
    {
     "name": "stdout",
     "output_type": "stream",
     "text": [
      "(1500, 224, 224, 3)\n",
      "(500, 224, 224, 3)\n",
      "(1500,)\n",
      "(500,)\n"
     ]
    }
   ],
   "source": [
    "print(X_train.shape)\n",
    "print(X_val.shape)\n",
    "print(y_train.shape)\n",
    "print(y_val.shape)"
   ]
  },
  {
   "cell_type": "markdown",
   "id": "41c69c8d",
   "metadata": {},
   "source": [
    "### CNN 모델링"
   ]
  },
  {
   "cell_type": "code",
   "execution_count": 9,
   "id": "29d35863",
   "metadata": {},
   "outputs": [],
   "source": [
    "from tensorflow.keras import Sequential\n",
    "# Conv2D : 2차원 데이터(ex 이미지), Conv3D : 3차원 데이터(ex 영상)\n",
    "from tensorflow.keras.layers import Dense, Flatten, Conv2D, MaxPooling2D, Dropout"
   ]
  },
  {
   "cell_type": "code",
   "execution_count": 10,
   "id": "efe75242",
   "metadata": {},
   "outputs": [
    {
     "name": "stdout",
     "output_type": "stream",
     "text": [
      "Model: \"sequential\"\n",
      "_________________________________________________________________\n",
      "Layer (type)                 Output Shape              Param #   \n",
      "=================================================================\n",
      "conv2d (Conv2D)              (None, 75, 75, 64)        4864      \n",
      "_________________________________________________________________\n",
      "dropout (Dropout)            (None, 75, 75, 64)        0         \n",
      "_________________________________________________________________\n",
      "max_pooling2d (MaxPooling2D) (None, 37, 37, 64)        0         \n",
      "_________________________________________________________________\n",
      "flatten (Flatten)            (None, 87616)             0         \n",
      "_________________________________________________________________\n",
      "dense (Dense)                (None, 256)               22429952  \n",
      "_________________________________________________________________\n",
      "dense_1 (Dense)              (None, 128)               32896     \n",
      "_________________________________________________________________\n",
      "dense_2 (Dense)              (None, 32)                4128      \n",
      "_________________________________________________________________\n",
      "dense_3 (Dense)              (None, 1)                 33        \n",
      "=================================================================\n",
      "Total params: 22,471,873\n",
      "Trainable params: 22,471,873\n",
      "Non-trainable params: 0\n",
      "_________________________________________________________________\n"
     ]
    }
   ],
   "source": [
    "# 신경망 구조 설계\n",
    "cat_dog_model = Sequential()\n",
    "\n",
    "# 1. 특성 추출부(Conv - 특징이 되는 정보를 추출)\n",
    "cat_dog_model.add(Conv2D(input_shape = (224,224,3),\n",
    "                         # 필터(돋보기)의 개수 → 추출하는 특징의 개수를 설정\n",
    "                         filters = 64,\n",
    "                         # 필터 크기 설정\n",
    "                         kernel_size = (5,5),\n",
    "                         # same : 원본 데이터의 크기에 맞게 알아서 패딩을 적용\n",
    "                         # valid : 패딩 적용 X\n",
    "                         padding = 'same',\n",
    "                         # 필터로 합성곱 연산을 진행시 건너뛰는 크기를 지정(행,열)\n",
    "                         strides = (3,3),\n",
    "                         activation = 'relu'\n",
    "                        ))\n",
    "# 과대적합 방지를 위해 20%의 뉴런들을 학습시키지 않음\n",
    "cat_dog_model.add(Dropout(0.2))\n",
    "\n",
    "# 2. 특성 추출부(Pooling - 불필요한 정보를 삭제)\n",
    "# pool_size : 디폴트 값은2 → 2 x 2 풀링 필터\n",
    "cat_dog_model.add(MaxPooling2D(pool_size=2,\n",
    "                               strides = (2,2)\n",
    "                              ))\n",
    "\n",
    "# 3. MLP층에 넣어주기!\n",
    "cat_dog_model.add(Flatten())   # 추출된 특징들을 자동적으로 펴줌\n",
    "cat_dog_model.add(Dense(256, activation='relu'))\n",
    "cat_dog_model.add(Dense(128, activation='relu'))\n",
    "cat_dog_model.add(Dense(32, activation='relu'))\n",
    "\n",
    "cat_dog_model.add(Dense(1, activation='sigmoid'))\n",
    "\n",
    "cat_dog_model.summary()\n",
    "\n",
    "# Conv 첫 층의 파라미터 개수는 입력필터수 * 필터크기 * 채널수 + 필터수(b값)    64 * 25 * 3 + 64"
   ]
  },
  {
   "cell_type": "code",
   "execution_count": 11,
   "id": "afaf370e",
   "metadata": {},
   "outputs": [],
   "source": [
    "# 학습 및 평가 방법 설정\n",
    "cat_dog_model.compile(loss='binary_crossentropy',\n",
    "              optimizer='Adam',\n",
    "              metrics=['acc']\n",
    "             )"
   ]
  },
  {
   "cell_type": "code",
   "execution_count": 12,
   "id": "fb11896d",
   "metadata": {},
   "outputs": [
    {
     "name": "stdout",
     "output_type": "stream",
     "text": [
      "Epoch 1/50\n",
      "12/12 [==============================] - 10s 842ms/step - loss: 241.3702 - acc: 0.4900 - val_loss: 2.1917 - val_acc: 0.4840\n",
      "Epoch 2/50\n",
      "12/12 [==============================] - 10s 824ms/step - loss: 1.0725 - acc: 0.5173 - val_loss: 0.7169 - val_acc: 0.5120\n",
      "Epoch 3/50\n",
      "12/12 [==============================] - 10s 800ms/step - loss: 0.6743 - acc: 0.5647 - val_loss: 0.7008 - val_acc: 0.5160\n",
      "Epoch 4/50\n",
      "12/12 [==============================] - 10s 867ms/step - loss: 0.6315 - acc: 0.6313 - val_loss: 0.7066 - val_acc: 0.5800\n",
      "Epoch 5/50\n",
      "12/12 [==============================] - 10s 799ms/step - loss: 0.4634 - acc: 0.7880 - val_loss: 0.7703 - val_acc: 0.5840\n",
      "Epoch 6/50\n",
      "12/12 [==============================] - 10s 801ms/step - loss: 0.2960 - acc: 0.8860 - val_loss: 1.3803 - val_acc: 0.5460\n",
      "Epoch 7/50\n",
      "12/12 [==============================] - 9s 782ms/step - loss: 0.1290 - acc: 0.9533 - val_loss: 1.4678 - val_acc: 0.5400\n",
      "Epoch 8/50\n",
      "12/12 [==============================] - 9s 787ms/step - loss: 0.0668 - acc: 0.9753 - val_loss: 1.8495 - val_acc: 0.5520\n",
      "Epoch 9/50\n",
      "12/12 [==============================] - 9s 783ms/step - loss: 0.0448 - acc: 0.9907 - val_loss: 2.8298 - val_acc: 0.5660\n",
      "Epoch 10/50\n",
      "12/12 [==============================] - 9s 784ms/step - loss: 0.0497 - acc: 0.9893 - val_loss: 1.8777 - val_acc: 0.5800\n",
      "Epoch 11/50\n",
      "12/12 [==============================] - 9s 784ms/step - loss: 0.0369 - acc: 0.9887 - val_loss: 3.0117 - val_acc: 0.5540\n",
      "Epoch 12/50\n",
      "12/12 [==============================] - 9s 782ms/step - loss: 0.0300 - acc: 0.9907 - val_loss: 2.3665 - val_acc: 0.5400\n",
      "Epoch 13/50\n",
      "12/12 [==============================] - 9s 783ms/step - loss: 0.0566 - acc: 0.9893 - val_loss: 2.6133 - val_acc: 0.5600\n",
      "Epoch 14/50\n",
      "12/12 [==============================] - 9s 782ms/step - loss: 0.0210 - acc: 0.9920 - val_loss: 3.0938 - val_acc: 0.5420\n",
      "Epoch 15/50\n",
      "12/12 [==============================] - 9s 784ms/step - loss: 0.0206 - acc: 0.9947 - val_loss: 2.7758 - val_acc: 0.5820\n",
      "Epoch 16/50\n",
      "12/12 [==============================] - 9s 781ms/step - loss: 0.0298 - acc: 0.9927 - val_loss: 2.4216 - val_acc: 0.5640\n",
      "Epoch 17/50\n",
      "12/12 [==============================] - 9s 784ms/step - loss: 0.0225 - acc: 0.9913 - val_loss: 2.7326 - val_acc: 0.5240\n",
      "Epoch 18/50\n",
      "12/12 [==============================] - 9s 777ms/step - loss: 0.0134 - acc: 0.9953 - val_loss: 3.3703 - val_acc: 0.5620\n",
      "Epoch 19/50\n",
      "12/12 [==============================] - 9s 785ms/step - loss: 0.0200 - acc: 0.9940 - val_loss: 2.4114 - val_acc: 0.5460\n",
      "Epoch 20/50\n",
      "12/12 [==============================] - 9s 778ms/step - loss: 0.0114 - acc: 0.9967 - val_loss: 2.9273 - val_acc: 0.5560\n",
      "Epoch 21/50\n",
      "12/12 [==============================] - 9s 780ms/step - loss: 0.0047 - acc: 0.9987 - val_loss: 2.9939 - val_acc: 0.5520\n",
      "Epoch 22/50\n",
      "12/12 [==============================] - 9s 781ms/step - loss: 0.0166 - acc: 0.9953 - val_loss: 2.4877 - val_acc: 0.5380\n",
      "Epoch 23/50\n",
      "12/12 [==============================] - 9s 786ms/step - loss: 0.0116 - acc: 0.9960 - val_loss: 2.1287 - val_acc: 0.5640\n",
      "Epoch 24/50\n",
      "12/12 [==============================] - 9s 785ms/step - loss: 0.0045 - acc: 0.9987 - val_loss: 2.8794 - val_acc: 0.5740\n",
      "Epoch 25/50\n",
      "12/12 [==============================] - 9s 786ms/step - loss: 0.0056 - acc: 0.9980 - val_loss: 2.7853 - val_acc: 0.5700\n",
      "Epoch 26/50\n",
      "12/12 [==============================] - 9s 783ms/step - loss: 0.0033 - acc: 0.9987 - val_loss: 2.3707 - val_acc: 0.5700\n",
      "Epoch 27/50\n",
      "12/12 [==============================] - 10s 811ms/step - loss: 0.0036 - acc: 0.9987 - val_loss: 2.7108 - val_acc: 0.5620\n",
      "Epoch 28/50\n",
      "12/12 [==============================] - 10s 802ms/step - loss: 0.0037 - acc: 0.9987 - val_loss: 2.8716 - val_acc: 0.5720\n",
      "Epoch 29/50\n",
      "12/12 [==============================] - 9s 792ms/step - loss: 0.0029 - acc: 0.9993 - val_loss: 3.5457 - val_acc: 0.5700\n",
      "Epoch 30/50\n",
      "12/12 [==============================] - 10s 804ms/step - loss: 0.0052 - acc: 0.9973 - val_loss: 3.5531 - val_acc: 0.5580\n",
      "Epoch 31/50\n",
      "12/12 [==============================] - 10s 868ms/step - loss: 0.0413 - acc: 0.9940 - val_loss: 2.5820 - val_acc: 0.5540\n",
      "Epoch 32/50\n",
      "12/12 [==============================] - 10s 868ms/step - loss: 0.0159 - acc: 0.9953 - val_loss: 2.7161 - val_acc: 0.5520\n",
      "Epoch 33/50\n",
      "12/12 [==============================] - 11s 923ms/step - loss: 0.0078 - acc: 0.9973 - val_loss: 2.5149 - val_acc: 0.5620\n",
      "Epoch 34/50\n",
      "12/12 [==============================] - 10s 794ms/step - loss: 0.0063 - acc: 0.9973 - val_loss: 2.4877 - val_acc: 0.5800\n",
      "Epoch 35/50\n",
      "12/12 [==============================] - 10s 808ms/step - loss: 0.0042 - acc: 0.9987 - val_loss: 2.6891 - val_acc: 0.5660\n",
      "Epoch 36/50\n",
      "12/12 [==============================] - 9s 788ms/step - loss: 0.0025 - acc: 0.9987 - val_loss: 3.0686 - val_acc: 0.5600\n",
      "Epoch 37/50\n",
      "12/12 [==============================] - 9s 780ms/step - loss: 0.0012 - acc: 0.9993 - val_loss: 3.6062 - val_acc: 0.5760\n",
      "Epoch 38/50\n",
      "12/12 [==============================] - 9s 781ms/step - loss: 0.0060 - acc: 0.9987 - val_loss: 3.3804 - val_acc: 0.5660\n",
      "Epoch 39/50\n",
      "12/12 [==============================] - 9s 780ms/step - loss: 0.0188 - acc: 0.9920 - val_loss: 3.2535 - val_acc: 0.5560\n",
      "Epoch 40/50\n",
      "12/12 [==============================] - 9s 778ms/step - loss: 0.0308 - acc: 0.9900 - val_loss: 2.3615 - val_acc: 0.5480\n",
      "Epoch 41/50\n",
      "12/12 [==============================] - 9s 783ms/step - loss: 0.0206 - acc: 0.9933 - val_loss: 3.6266 - val_acc: 0.5640\n",
      "Epoch 42/50\n",
      "12/12 [==============================] - 9s 786ms/step - loss: 0.0284 - acc: 0.9893 - val_loss: 2.4151 - val_acc: 0.5440\n",
      "Epoch 43/50\n",
      "12/12 [==============================] - 9s 780ms/step - loss: 0.0207 - acc: 0.9947 - val_loss: 3.1125 - val_acc: 0.5300\n",
      "Epoch 44/50\n",
      "12/12 [==============================] - 9s 779ms/step - loss: 0.0177 - acc: 0.9933 - val_loss: 2.9919 - val_acc: 0.5340\n",
      "Epoch 45/50\n",
      "12/12 [==============================] - 9s 782ms/step - loss: 0.0097 - acc: 0.9960 - val_loss: 2.7136 - val_acc: 0.5480\n",
      "Epoch 46/50\n",
      "12/12 [==============================] - 9s 783ms/step - loss: 0.0106 - acc: 0.9960 - val_loss: 3.4394 - val_acc: 0.5420\n",
      "Epoch 47/50\n",
      "12/12 [==============================] - 9s 776ms/step - loss: 0.0039 - acc: 0.9980 - val_loss: 3.6126 - val_acc: 0.5700\n",
      "Epoch 48/50\n",
      "12/12 [==============================] - 9s 784ms/step - loss: 0.0082 - acc: 0.9967 - val_loss: 3.0911 - val_acc: 0.5780\n",
      "Epoch 49/50\n",
      "12/12 [==============================] - 9s 791ms/step - loss: 0.0042 - acc: 0.9973 - val_loss: 2.7689 - val_acc: 0.5820\n",
      "Epoch 50/50\n",
      "12/12 [==============================] - 9s 790ms/step - loss: 0.0032 - acc: 0.9987 - val_loss: 3.7061 - val_acc: 0.5880\n"
     ]
    }
   ],
   "source": [
    "h = cat_dog_model.fit(X_train, y_train,\n",
    "              validation_data = (X_val, y_val),\n",
    "              batch_size=128, \n",
    "              epochs = 50\n",
    "             )"
   ]
  },
  {
   "cell_type": "code",
   "execution_count": 13,
   "id": "c2b89059",
   "metadata": {},
   "outputs": [
    {
     "data": {
      "image/png": "[encoded data removed]",
      "text/plain": [
       "<Figure size 1080x360 with 1 Axes>"
      ]
     },
     "metadata": {
      "needs_background": "light"
     },
     "output_type": "display_data"
    }
   ],
   "source": [
    "plt.figure(figsize=(15,5))\n",
    "\n",
    "plt.plot(h.history['acc'],\n",
    "         label='acc'\n",
    "        )\n",
    "\n",
    "plt.plot(h.history['val_acc'],\n",
    "         label='val_acc'\n",
    "        )\n",
    "\n",
    "plt.legend(prop={'size':40}, loc=\"lower center\")\n",
    "plt.show()"
   ]
  },
  {
   "cell_type": "markdown",
   "id": "c9cbbbf3",
   "metadata": {},
   "source": [
    "- 개, 고양이 사진의 다양함과 데이터의 규모에 비해서 Conv층과 Pooling층이 너무 간단해서 제대로 된 결과가 나오지 않음"
   ]
  },
  {
   "cell_type": "markdown",
   "id": "3feecb48",
   "metadata": {},
   "source": [
    "### VGG16 모델을 개, 고양이 이미지 데이터 분류에 활용해보자!"
   ]
  },
  {
   "cell_type": "code",
   "execution_count": 14,
   "id": "73e08d38",
   "metadata": {},
   "outputs": [],
   "source": [
    "from tensorflow.keras.applications import VGG16"
   ]
  },
  {
   "cell_type": "code",
   "execution_count": 15,
   "id": "ba8bdd14",
   "metadata": {},
   "outputs": [],
   "source": [
    "# include_top = False : 불러온 모델의 MLP층을 사용하지 않음(특성추출방식)\n",
    "# → 기존 이미지넷 대회에서는 1000가지의 이미지를 분류했고 VGG16모델도\n",
    "#    거기에 맞춰져 있음, 우리는 개, 고양이 2진분류 모델을 만들기 때문에\n",
    "#    MLP층을 다르게 설정해줘야 함!\n",
    "\n",
    "# weights = imagenet :  이미지넷에서 잘 학습된 가중치(w)를 그대로 가져옴\n",
    "\n",
    "vgg16 = VGG16(include_top = False,\n",
    "              weights = 'imagenet',\n",
    "              input_shape= (224,224,3)\n",
    "             )"
   ]
  },
  {
   "cell_type": "code",
   "execution_count": 16,
   "id": "dabc5fca",
   "metadata": {},
   "outputs": [
    {
     "name": "stdout",
     "output_type": "stream",
     "text": [
      "Model: \"vgg16\"\n",
      "_________________________________________________________________\n",
      "Layer (type)                 Output Shape              Param #   \n",
      "=================================================================\n",
      "input_1 (InputLayer)         [(None, 224, 224, 3)]     0         \n",
      "_________________________________________________________________\n",
      "block1_conv1 (Conv2D)        (None, 224, 224, 64)      1792      \n",
      "_________________________________________________________________\n",
      "block1_conv2 (Conv2D)        (None, 224, 224, 64)      36928     \n",
      "_________________________________________________________________\n",
      "block1_pool (MaxPooling2D)   (None, 112, 112, 64)      0         \n",
      "_________________________________________________________________\n",
      "block2_conv1 (Conv2D)        (None, 112, 112, 128)     73856     \n",
      "_________________________________________________________________\n",
      "block2_conv2 (Conv2D)        (None, 112, 112, 128)     147584    \n",
      "_________________________________________________________________\n",
      "block2_pool (MaxPooling2D)   (None, 56, 56, 128)       0         \n",
      "_________________________________________________________________\n",
      "block3_conv1 (Conv2D)        (None, 56, 56, 256)       295168    \n",
      "_________________________________________________________________\n",
      "block3_conv2 (Conv2D)        (None, 56, 56, 256)       590080    \n",
      "_________________________________________________________________\n",
      "block3_conv3 (Conv2D)        (None, 56, 56, 256)       590080    \n",
      "_________________________________________________________________\n",
      "block3_pool (MaxPooling2D)   (None, 28, 28, 256)       0         \n",
      "_________________________________________________________________\n",
      "block4_conv1 (Conv2D)        (None, 28, 28, 512)       1180160   \n",
      "_________________________________________________________________\n",
      "block4_conv2 (Conv2D)        (None, 28, 28, 512)       2359808   \n",
      "_________________________________________________________________\n",
      "block4_conv3 (Conv2D)        (None, 28, 28, 512)       2359808   \n",
      "_________________________________________________________________\n",
      "block4_pool (MaxPooling2D)   (None, 14, 14, 512)       0         \n",
      "_________________________________________________________________\n",
      "block5_conv1 (Conv2D)        (None, 14, 14, 512)       2359808   \n",
      "_________________________________________________________________\n",
      "block5_conv2 (Conv2D)        (None, 14, 14, 512)       2359808   \n",
      "_________________________________________________________________\n",
      "block5_conv3 (Conv2D)        (None, 14, 14, 512)       2359808   \n",
      "_________________________________________________________________\n",
      "block5_pool (MaxPooling2D)   (None, 7, 7, 512)         0         \n",
      "=================================================================\n",
      "Total params: 14,714,688\n",
      "Trainable params: 14,714,688\n",
      "Non-trainable params: 0\n",
      "_________________________________________________________________\n"
     ]
    }
   ],
   "source": [
    "vgg16.summary()"
   ]
  },
  {
   "cell_type": "code",
   "execution_count": 17,
   "id": "a7dee11c",
   "metadata": {},
   "outputs": [
    {
     "name": "stdout",
     "output_type": "stream",
     "text": [
      "Model: \"sequential_1\"\n",
      "_________________________________________________________________\n",
      "Layer (type)                 Output Shape              Param #   \n",
      "=================================================================\n",
      "vgg16 (Functional)           (None, 7, 7, 512)         14714688  \n",
      "_________________________________________________________________\n",
      "flatten_1 (Flatten)          (None, 25088)             0         \n",
      "_________________________________________________________________\n",
      "dense_4 (Dense)              (None, 256)               6422784   \n",
      "_________________________________________________________________\n",
      "dense_5 (Dense)              (None, 128)               32896     \n",
      "_________________________________________________________________\n",
      "dense_6 (Dense)              (None, 64)                8256      \n",
      "_________________________________________________________________\n",
      "dense_7 (Dense)              (None, 1)                 65        \n",
      "=================================================================\n",
      "Total params: 21,178,689\n",
      "Trainable params: 21,178,689\n",
      "Non-trainable params: 0\n",
      "_________________________________________________________________\n"
     ]
    }
   ],
   "source": [
    "# 신경망 설계\n",
    "transfer_model = Sequential()\n",
    "\n",
    "# VGG16모델의 특성추출부를 활용\n",
    "transfer_model.add(vgg16)\n",
    "\n",
    "# MLP층 쌓기\n",
    "transfer_model.add(Flatten())\n",
    "transfer_model.add(Dense(256, activation='relu'))\n",
    "transfer_model.add(Dense(128, activation='relu'))\n",
    "transfer_model.add(Dense(64, activation='relu'))\n",
    "transfer_model.add(Dense(1, activation='sigmoid'))\n",
    "\n",
    "transfer_model.summary()"
   ]
  },
  {
   "cell_type": "code",
   "execution_count": 18,
   "id": "45922f6c",
   "metadata": {},
   "outputs": [],
   "source": [
    "# 학습 및 평가 방법 설정\n",
    "transfer_model.compile(loss='binary_crossentropy',\n",
    "              optimizer='Adam',\n",
    "              metrics=['acc']\n",
    "             )"
   ]
  },
  {
   "cell_type": "code",
   "execution_count": 19,
   "id": "ab302fe0",
   "metadata": {},
   "outputs": [
    {
     "name": "stdout",
     "output_type": "stream",
     "text": [
      "Epoch 1/20\n",
      "12/12 [==============================] - 515s 43s/step - loss: 60.7077 - acc: 0.5107 - val_loss: 0.7008 - val_acc: 0.4800\n",
      "Epoch 2/20\n",
      "12/12 [==============================] - 496s 41s/step - loss: 0.7069 - acc: 0.4767 - val_loss: 0.7002 - val_acc: 0.4840\n",
      "Epoch 3/20\n",
      "12/12 [==============================] - 494s 41s/step - loss: 0.6961 - acc: 0.4787 - val_loss: 0.6932 - val_acc: 0.5020\n",
      "Epoch 4/20\n",
      "12/12 [==============================] - 523s 44s/step - loss: 0.6904 - acc: 0.5147 - val_loss: 0.6893 - val_acc: 0.5680\n",
      "Epoch 5/20\n",
      "12/12 [==============================] - 509s 42s/step - loss: 0.6856 - acc: 0.5613 - val_loss: 0.6823 - val_acc: 0.5660\n",
      "Epoch 6/20\n",
      "12/12 [==============================] - 505s 42s/step - loss: 0.6792 - acc: 0.5787 - val_loss: 0.6892 - val_acc: 0.5500\n",
      "Epoch 7/20\n",
      "12/12 [==============================] - 488s 41s/step - loss: 0.6901 - acc: 0.5473 - val_loss: 0.6882 - val_acc: 0.5080\n",
      "Epoch 8/20\n",
      "12/12 [==============================] - 488s 41s/step - loss: 0.6854 - acc: 0.5607 - val_loss: 0.6882 - val_acc: 0.5580\n",
      "Epoch 9/20\n",
      "12/12 [==============================] - 488s 41s/step - loss: 0.6767 - acc: 0.5780 - val_loss: 0.6872 - val_acc: 0.5720\n",
      "Epoch 10/20\n",
      "12/12 [==============================] - 489s 41s/step - loss: 0.6619 - acc: 0.5873 - val_loss: 0.7196 - val_acc: 0.5240\n",
      "Epoch 11/20\n",
      "12/12 [==============================] - 491s 41s/step - loss: 0.6896 - acc: 0.5553 - val_loss: 0.6777 - val_acc: 0.5920\n",
      "Epoch 12/20\n",
      "12/12 [==============================] - 489s 41s/step - loss: 0.6703 - acc: 0.5887 - val_loss: 0.6889 - val_acc: 0.5480\n",
      "Epoch 13/20\n",
      "12/12 [==============================] - 489s 41s/step - loss: 0.6566 - acc: 0.5960 - val_loss: 0.6642 - val_acc: 0.6280\n",
      "Epoch 14/20\n",
      "12/12 [==============================] - 489s 41s/step - loss: 0.6420 - acc: 0.6427 - val_loss: 0.6921 - val_acc: 0.6200\n",
      "Epoch 15/20\n",
      "12/12 [==============================] - 489s 41s/step - loss: 0.6403 - acc: 0.6367 - val_loss: 0.7041 - val_acc: 0.6100\n",
      "Epoch 16/20\n",
      "12/12 [==============================] - 489s 41s/step - loss: 0.6501 - acc: 0.6133 - val_loss: 0.6551 - val_acc: 0.6080\n",
      "Epoch 17/20\n",
      "12/12 [==============================] - 489s 41s/step - loss: 0.6159 - acc: 0.6667 - val_loss: 0.6600 - val_acc: 0.6240\n",
      "Epoch 18/20\n",
      "12/12 [==============================] - 489s 41s/step - loss: 0.6147 - acc: 0.6740 - val_loss: 0.6607 - val_acc: 0.6160\n",
      "Epoch 19/20\n",
      "12/12 [==============================] - 489s 41s/step - loss: 0.5946 - acc: 0.6873 - val_loss: 0.6610 - val_acc: 0.6480\n",
      "Epoch 20/20\n",
      "12/12 [==============================] - 491s 41s/step - loss: 0.5879 - acc: 0.6927 - val_loss: 0.6406 - val_acc: 0.6420\n"
     ]
    }
   ],
   "source": [
    "h1 = transfer_model.fit(X_train, y_train,\n",
    "              validation_data = (X_val, y_val),\n",
    "              batch_size=128, \n",
    "              epochs = 20\n",
    "             )"
   ]
  },
  {
   "cell_type": "markdown",
   "id": "b97760be",
   "metadata": {},
   "source": [
    "### 학습이 제대로 되고 있지 않음\n",
    "- MLP층에서 발생된 오차가 역전파를 통해서 vgg16 모델 앞단부로 전달되면서 사전에 잘 학습되어져 있던 w,b값들을 많이 손실시켰음\n",
    "- 사전 학습된 w,b 값이 변경되지 않도록 vgg16모델의 일부층들을 동결시켜놓고 추가로 학습을 진행해보자!"
   ]
  },
  {
   "cell_type": "code",
   "execution_count": 20,
   "id": "ddae5413",
   "metadata": {},
   "outputs": [
    {
     "name": "stdout",
     "output_type": "stream",
     "text": [
      "input_1\n",
      "block1_conv1\n",
      "block1_conv2\n",
      "block1_pool\n",
      "block2_conv1\n",
      "block2_conv2\n",
      "block2_pool\n",
      "block3_conv1\n",
      "block3_conv2\n",
      "block3_conv3\n",
      "block3_pool\n",
      "block4_conv1\n",
      "block4_conv2\n",
      "block4_conv3\n",
      "block4_pool\n",
      "block5_conv1\n",
      "block5_conv2\n",
      "block5_conv3\n",
      "block5_pool\n"
     ]
    }
   ],
   "source": [
    "# 동결시킬 층을 확인하기 위해 vgg16모델의 층(layer)들의 명칭을 확인해보자\n",
    "for layer in vgg16.layers:\n",
    "    print(layer.name)"
   ]
  },
  {
   "cell_type": "code",
   "execution_count": 21,
   "id": "85ee7171",
   "metadata": {},
   "outputs": [
    {
     "name": "stdout",
     "output_type": "stream",
     "text": [
      "Model: \"sequential_1\"\n",
      "_________________________________________________________________\n",
      "Layer (type)                 Output Shape              Param #   \n",
      "=================================================================\n",
      "vgg16 (Functional)           (None, 7, 7, 512)         14714688  \n",
      "_________________________________________________________________\n",
      "flatten_1 (Flatten)          (None, 25088)             0         \n",
      "_________________________________________________________________\n",
      "dense_4 (Dense)              (None, 256)               6422784   \n",
      "_________________________________________________________________\n",
      "dense_5 (Dense)              (None, 128)               32896     \n",
      "_________________________________________________________________\n",
      "dense_6 (Dense)              (None, 64)                8256      \n",
      "_________________________________________________________________\n",
      "dense_7 (Dense)              (None, 1)                 65        \n",
      "=================================================================\n",
      "Total params: 21,178,689\n",
      "Trainable params: 8,823,809\n",
      "Non-trainable params: 12,354,880\n",
      "_________________________________________________________________\n"
     ]
    }
   ],
   "source": [
    "# 신경망 설계\n",
    "transfer_model1 = Sequential()\n",
    "\n",
    "# 미세조정 방식 적용\n",
    "# vgg16모델에서 마지막 Conv층을 제외하고 학습이 불가능하도록 동결시켜보자!\n",
    "# -----------------------------------------------\n",
    "for layer in vgg16.layers:\n",
    "    if layer.name=='block5_conv3':\n",
    "        layer.trainable = True\n",
    "    else :\n",
    "        layer.trainable = False\n",
    "        \n",
    "# -----------------------------------------------\n",
    "# VGG16모델의 특성추출부를 활용\n",
    "transfer_model1.add(vgg16)\n",
    "\n",
    "# MLP층 쌓기\n",
    "transfer_model1.add(Flatten())\n",
    "transfer_model1.add(Dense(256, activation='relu'))\n",
    "transfer_model1.add(Dense(128, activation='relu'))\n",
    "transfer_model1.add(Dense(64, activation='relu'))\n",
    "transfer_model1.add(Dense(1, activation='sigmoid'))\n",
    "\n",
    "transfer_model.summary()"
   ]
  },
  {
   "cell_type": "code",
   "execution_count": 22,
   "id": "7a2cd5ae",
   "metadata": {},
   "outputs": [],
   "source": [
    "transfer_model1.compile(loss='binary_crossentropy',\n",
    "                        optimizer = 'Adam',\n",
    "                        metrics=['acc']\n",
    "                       )"
   ]
  },
  {
   "cell_type": "code",
   "execution_count": 23,
   "id": "84f99883",
   "metadata": {},
   "outputs": [
    {
     "name": "stdout",
     "output_type": "stream",
     "text": [
      "Epoch 1/20\n",
      "12/12 [==============================] - 92s 8s/step - loss: 0.6721 - acc: 0.6047\n",
      "Epoch 2/20\n",
      "12/12 [==============================] - 92s 8s/step - loss: 0.5915 - acc: 0.6860\n",
      "Epoch 3/20\n",
      "12/12 [==============================] - 92s 8s/step - loss: 0.5765 - acc: 0.7020\n",
      "Epoch 4/20\n",
      "12/12 [==============================] - 93s 8s/step - loss: 0.5791 - acc: 0.6887\n",
      "Epoch 5/20\n",
      "12/12 [==============================] - 93s 8s/step - loss: 0.5651 - acc: 0.7000\n",
      "Epoch 6/20\n",
      "12/12 [==============================] - 92s 8s/step - loss: 0.5362 - acc: 0.7213\n",
      "Epoch 7/20\n",
      "12/12 [==============================] - 92s 8s/step - loss: 0.5277 - acc: 0.7227\n",
      "Epoch 8/20\n",
      "12/12 [==============================] - 93s 8s/step - loss: 0.5123 - acc: 0.7420\n",
      "Epoch 9/20\n",
      "12/12 [==============================] - 92s 8s/step - loss: 0.4974 - acc: 0.7460\n",
      "Epoch 10/20\n",
      "12/12 [==============================] - 92s 8s/step - loss: 0.4977 - acc: 0.7393\n",
      "Epoch 11/20\n",
      "12/12 [==============================] - 92s 8s/step - loss: 0.4669 - acc: 0.7720\n",
      "Epoch 12/20\n",
      "12/12 [==============================] - 92s 8s/step - loss: 0.4511 - acc: 0.7800\n",
      "Epoch 13/20\n",
      "12/12 [==============================] - 92s 8s/step - loss: 0.4190 - acc: 0.8087\n",
      "Epoch 14/20\n",
      "12/12 [==============================] - 92s 8s/step - loss: 0.3984 - acc: 0.8133\n",
      "Epoch 15/20\n",
      "12/12 [==============================] - 93s 8s/step - loss: 0.3910 - acc: 0.8060\n",
      "Epoch 16/20\n",
      "12/12 [==============================] - 93s 8s/step - loss: 0.3829 - acc: 0.8220\n",
      "Epoch 17/20\n",
      "12/12 [==============================] - 93s 8s/step - loss: 0.3544 - acc: 0.8393\n",
      "Epoch 18/20\n",
      "12/12 [==============================] - 92s 8s/step - loss: 0.3349 - acc: 0.8480\n",
      "Epoch 19/20\n",
      "12/12 [==============================] - 93s 8s/step - loss: 0.3115 - acc: 0.8633\n",
      "Epoch 20/20\n",
      "12/12 [==============================] - 92s 8s/step - loss: 0.3113 - acc: 0.8627\n"
     ]
    }
   ],
   "source": [
    "h1 = transfer_model1.fit(X_train, y_train,\n",
    "                        epochs=20,\n",
    "                        batch_size=128\n",
    "                       )"
   ]
  },
  {
   "cell_type": "code",
   "execution_count": 24,
   "id": "8ad41cbd",
   "metadata": {},
   "outputs": [
    {
     "data": {
      "image/png": "[encoded data removed]",
      "text/plain": [
       "<Figure size 1080x360 with 1 Axes>"
      ]
     },
     "metadata": {
      "needs_background": "light"
     },
     "output_type": "display_data"
    }
   ],
   "source": [
    "plt.figure(figsize=(15,5))\n",
    "\n",
    "plt.plot(h.history['acc'],\n",
    "         label='acc'\n",
    "        )\n",
    "\n",
    "plt.legend(prop={'size':40}, loc=\"lower center\")\n",
    "plt.show()"
   ]
  },
  {
   "cell_type": "code",
   "execution_count": 25,
   "id": "01ec28a7",
   "metadata": {},
   "outputs": [
    {
     "name": "stdout",
     "output_type": "stream",
     "text": [
      "32/32 [==============================] - 62s 2s/step - loss: 0.9984 - acc: 0.6490\n"
     ]
    },
    {
     "data": {
      "text/plain": [
       "[0.9984209537506104, 0.6489999890327454]"
      ]
     },
     "execution_count": 25,
     "metadata": {},
     "output_type": "execute_result"
    }
   ],
   "source": [
    "transfer_model1.evaluate(X_test, y_test)"
   ]
  },
  {
   "cell_type": "markdown",
   "id": "9f3220ac",
   "metadata": {},
   "source": [
    "#### 전이학습 모델을 불러와서 특성추출방식과 미세조정방식을 모두 적용했더니 정확도가 훨씬 향상되는 것을 확인할 수 있음"
   ]
  }
 ],
 "metadata": {
  "kernelspec": {
   "display_name": "Python 3",
   "language": "python",
   "name": "python3"
  },
  "language_info": {
   "codemirror_mode": {
    "name": "ipython",
    "version": 3
   },
   "file_extension": ".py",
   "mimetype": "text/x-python",
   "name": "python",
   "nbconvert_exporter": "python",
   "pygments_lexer": "ipython3",
   "version": "3.8.8"
  }
 },
 "nbformat": 4,
 "nbformat_minor": 5
}
