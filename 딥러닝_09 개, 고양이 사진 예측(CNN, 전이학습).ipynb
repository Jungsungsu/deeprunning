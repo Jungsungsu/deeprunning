{
 "cells": [
  {
   "cell_type": "markdown",
   "id": "c628ae0e",
   "metadata": {},
   "source": [
    "- npz파일 로딩"
   ]
  },
  {
   "cell_type": "code",
   "execution_count": 1,
   "id": "4b3b0d1a",
   "metadata": {},
   "outputs": [],
   "source": [
    "import numpy as np\n",
    "import pandas as pd\n",
    "import matplotlib.pyplot as plt"
   ]
  },
  {
   "cell_type": "code",
   "execution_count": 2,
   "id": "68d576d5",
   "metadata": {},
   "outputs": [],
   "source": [
    "data = np.load('data/cats_and_dogs.npz')"
   ]
  },
  {
   "cell_type": "code",
   "execution_count": 4,
   "id": "e2e4aae9",
   "metadata": {},
   "outputs": [
    {
     "data": {
      "text/plain": [
       "4"
      ]
     },
     "execution_count": 4,
     "metadata": {},
     "output_type": "execute_result"
    }
   ],
   "source": [
    "len(data)"
   ]
  },
  {
   "cell_type": "code",
   "execution_count": 5,
   "id": "c94f1eeb",
   "metadata": {},
   "outputs": [],
   "source": [
    "X_train = data['X_train']\n",
    "X_test = data['X_test']\n",
    "y_train = data['y_train']\n",
    "y_test = data['y_test']"
   ]
  },
  {
   "cell_type": "code",
   "execution_count": 6,
   "id": "1a75aff8",
   "metadata": {},
   "outputs": [
    {
     "name": "stdout",
     "output_type": "stream",
     "text": [
      "(2000, 224, 224, 3)\n",
      "(1000, 224, 224, 3)\n",
      "(2000,)\n",
      "(1000,)\n"
     ]
    }
   ],
   "source": [
    "print(X_train.shape)\n",
    "print(X_test.shape)\n",
    "print(y_train.shape)\n",
    "print(y_test.shape)"
   ]
  },
  {
   "cell_type": "markdown",
   "id": "bbf50277",
   "metadata": {},
   "source": [
    "- 검증용 데이터셋 분리시켜주기"
   ]
  },
  {
   "cell_type": "code",
   "execution_count": 7,
   "id": "1c539081",
   "metadata": {},
   "outputs": [],
   "source": [
    "from sklearn.model_selection import train_test_split"
   ]
  },
  {
   "cell_type": "code",
   "execution_count": 8,
   "id": "dadd550d",
   "metadata": {},
   "outputs": [],
   "source": [
    "X_train, X_val, y_train, y_val = train_test_split(X_train, y_train,\n",
    "                                                  random_state=5\n",
    "                                                 )"
   ]
  },
  {
   "cell_type": "code",
   "execution_count": 9,
   "id": "9fee9662",
   "metadata": {},
   "outputs": [
    {
     "name": "stdout",
     "output_type": "stream",
     "text": [
      "(1500, 224, 224, 3)\n",
      "(500, 224, 224, 3)\n",
      "(1500,)\n",
      "(500,)\n"
     ]
    }
   ],
   "source": [
    "print(X_train.shape)\n",
    "print(X_val.shape)\n",
    "print(y_train.shape)\n",
    "print(y_val.shape)"
   ]
  },
  {
   "cell_type": "markdown",
   "id": "41c69c8d",
   "metadata": {},
   "source": [
    "### CNN 모델링"
   ]
  },
  {
   "cell_type": "code",
   "execution_count": 12,
   "id": "29d35863",
   "metadata": {},
   "outputs": [],
   "source": [
    "from tensorflow.keras import Sequential\n",
    "# Conv2D : 2차원 데이터(ex 이미지), Conv3D : 3차원 데이터(ex 영상)\n",
    "from tensorflow.keras.layers import Dense, Flatten, Conv2D, MaxPooling2D, Dropout"
   ]
  },
  {
   "cell_type": "code",
   "execution_count": 13,
   "id": "efe75242",
   "metadata": {},
   "outputs": [
    {
     "name": "stdout",
     "output_type": "stream",
     "text": [
      "Model: \"sequential_1\"\n",
      "_________________________________________________________________\n",
      "Layer (type)                 Output Shape              Param #   \n",
      "=================================================================\n",
      "conv2d_1 (Conv2D)            (None, 75, 75, 64)        4864      \n",
      "_________________________________________________________________\n",
      "dropout_1 (Dropout)          (None, 75, 75, 64)        0         \n",
      "_________________________________________________________________\n",
      "max_pooling2d (MaxPooling2D) (None, 37, 37, 64)        0         \n",
      "_________________________________________________________________\n",
      "flatten (Flatten)            (None, 87616)             0         \n",
      "_________________________________________________________________\n",
      "dense (Dense)                (None, 256)               22429952  \n",
      "_________________________________________________________________\n",
      "dense_1 (Dense)              (None, 128)               32896     \n",
      "_________________________________________________________________\n",
      "dense_2 (Dense)              (None, 32)                4128      \n",
      "_________________________________________________________________\n",
      "dense_3 (Dense)              (None, 1)                 33        \n",
      "=================================================================\n",
      "Total params: 22,471,873\n",
      "Trainable params: 22,471,873\n",
      "Non-trainable params: 0\n",
      "_________________________________________________________________\n"
     ]
    }
   ],
   "source": [
    "# 신경망 구조 설계\n",
    "cat_dog_model = Sequential()\n",
    "\n",
    "# 1. 특성 추출부(Conv - 특징이 되는 정보를 추출)\n",
    "cat_dog_model.add(Conv2D(input_shape = (224,224,3),\n",
    "                         # 필터(돋보기)의 개수 → 추출하는 특징의 개수를 설정\n",
    "                         filters = 64,\n",
    "                         # 필터 크기 설정\n",
    "                         kernel_size = (5,5),\n",
    "                         # same : 원본 데이터의 크기에 맞게 알아서 패딩을 적용\n",
    "                         # valid : 패딩 적용 X\n",
    "                         padding = 'same',\n",
    "                         # 필터로 합성곱 연산을 진행시 건너뛰는 크기를 지정(행,열)\n",
    "                         strides = (3,3),\n",
    "                         activation = 'relu'\n",
    "                        ))\n",
    "# 과대적합 방지를 위해 20%의 뉴런들을 학습시키지 않음\n",
    "cat_dog_model.add(Dropout(0.2))\n",
    "\n",
    "# 2. 특성 추출부(Pooling - 불필요한 정보를 삭제)\n",
    "# pool_size : 디폴트 값은2 → 2 x 2 풀링 필터\n",
    "cat_dog_model.add(MaxPooling2D(pool_size=2,\n",
    "                               strides = (2,2)\n",
    "                              ))\n",
    "\n",
    "# 3. MLP층에 넣어주기!\n",
    "cat_dog_model.add(Flatten())   # 추출된 특징들을 자동적으로 펴줌\n",
    "cat_dog_model.add(Dense(256, activation='relu'))\n",
    "cat_dog_model.add(Dense(128, activation='relu'))\n",
    "cat_dog_model.add(Dense(32, activation='relu'))\n",
    "\n",
    "cat_dog_model.add(Dense(1, activation='sigmoid'))\n",
    "\n",
    "cat_dog_model.summary()\n",
    "\n",
    "# Conv 첫 층의 파라미터 개수는 입력필터수 * 필터크기 * 채널수 + 필터수(b값)    64 * 25 * 3 + 64"
   ]
  },
  {
   "cell_type": "code",
   "execution_count": 14,
   "id": "afaf370e",
   "metadata": {},
   "outputs": [],
   "source": [
    "# 학습 및 평가 방법 설정\n",
    "cat_dog_model.compile(loss='binary_crossentropy',\n",
    "              optimizer='Adam',\n",
    "              metrics=['acc']\n",
    "             )"
   ]
  },
  {
   "cell_type": "code",
   "execution_count": 19,
   "id": "fb11896d",
   "metadata": {
    "collapsed": true
   },
   "outputs": [
    {
     "name": "stdout",
     "output_type": "stream",
     "text": [
      "Epoch 1/50\n",
      "6/6 [==============================] - 25s 4s/step - loss: 0.6900 - acc: 0.5240 - val_loss: 0.7155 - val_acc: 0.4880\n",
      "Epoch 2/50\n",
      "6/6 [==============================] - 19s 3s/step - loss: 0.6724 - acc: 0.5607 - val_loss: 0.7233 - val_acc: 0.4980\n",
      "Epoch 3/50\n",
      "6/6 [==============================] - 20s 3s/step - loss: 0.6239 - acc: 0.6420 - val_loss: 0.7089 - val_acc: 0.5360\n",
      "Epoch 4/50\n",
      "6/6 [==============================] - 22s 4s/step - loss: 0.5321 - acc: 0.7867 - val_loss: 0.8187 - val_acc: 0.5360\n",
      "Epoch 5/50\n",
      "6/6 [==============================] - 22s 4s/step - loss: 0.3651 - acc: 0.8553 - val_loss: 0.9053 - val_acc: 0.5520\n",
      "Epoch 6/50\n",
      "6/6 [==============================] - 23s 4s/step - loss: 0.1926 - acc: 0.9387 - val_loss: 1.1938 - val_acc: 0.5660\n",
      "Epoch 7/50\n",
      "6/6 [==============================] - 22s 4s/step - loss: 0.0838 - acc: 0.9793 - val_loss: 1.7054 - val_acc: 0.5260\n",
      "Epoch 8/50\n",
      "6/6 [==============================] - 21s 4s/step - loss: 0.0480 - acc: 0.9920 - val_loss: 1.6236 - val_acc: 0.5460\n",
      "Epoch 9/50\n",
      "6/6 [==============================] - 21s 4s/step - loss: 0.0302 - acc: 0.9947 - val_loss: 1.7676 - val_acc: 0.5680\n",
      "Epoch 10/50\n",
      "6/6 [==============================] - 20s 3s/step - loss: 0.0163 - acc: 0.9967 - val_loss: 2.3416 - val_acc: 0.5540\n",
      "Epoch 11/50\n",
      "6/6 [==============================] - 20s 3s/step - loss: 0.0111 - acc: 0.9980 - val_loss: 2.0754 - val_acc: 0.5560\n",
      "Epoch 12/50\n",
      "6/6 [==============================] - 21s 4s/step - loss: 0.0130 - acc: 0.9993 - val_loss: 2.1842 - val_acc: 0.5940\n",
      "Epoch 13/50\n",
      "6/6 [==============================] - 20s 3s/step - loss: 0.0286 - acc: 0.9920 - val_loss: 2.3048 - val_acc: 0.5760\n",
      "Epoch 14/50\n",
      "6/6 [==============================] - 21s 4s/step - loss: 0.0246 - acc: 0.9947 - val_loss: 1.8181 - val_acc: 0.5480\n",
      "Epoch 15/50\n",
      "6/6 [==============================] - 21s 3s/step - loss: 0.0155 - acc: 0.9953 - val_loss: 2.0374 - val_acc: 0.5520\n",
      "Epoch 16/50\n",
      "6/6 [==============================] - 19s 3s/step - loss: 0.0130 - acc: 0.9973 - val_loss: 2.0904 - val_acc: 0.5500\n",
      "Epoch 17/50\n",
      "6/6 [==============================] - 19s 3s/step - loss: 0.0051 - acc: 1.0000 - val_loss: 2.5646 - val_acc: 0.5560\n",
      "Epoch 18/50\n",
      "6/6 [==============================] - 20s 3s/step - loss: 0.0041 - acc: 1.0000 - val_loss: 2.2916 - val_acc: 0.5660\n",
      "Epoch 19/50\n",
      "6/6 [==============================] - 20s 3s/step - loss: 0.0069 - acc: 0.9987 - val_loss: 2.5048 - val_acc: 0.5720\n",
      "Epoch 20/50\n",
      "6/6 [==============================] - 20s 3s/step - loss: 0.0068 - acc: 0.9993 - val_loss: 1.9177 - val_acc: 0.5800\n",
      "Epoch 21/50\n",
      "6/6 [==============================] - 20s 3s/step - loss: 0.0078 - acc: 0.9980 - val_loss: 2.2910 - val_acc: 0.5600\n",
      "Epoch 22/50\n",
      "6/6 [==============================] - 20s 3s/step - loss: 0.0049 - acc: 0.9987 - val_loss: 2.2479 - val_acc: 0.5760\n",
      "Epoch 23/50\n",
      "6/6 [==============================] - 21s 3s/step - loss: 0.0053 - acc: 0.9987 - val_loss: 2.4421 - val_acc: 0.5560\n",
      "Epoch 24/50\n",
      "6/6 [==============================] - 20s 3s/step - loss: 0.0052 - acc: 0.9980 - val_loss: 2.5276 - val_acc: 0.5660\n",
      "Epoch 25/50\n",
      "6/6 [==============================] - 21s 4s/step - loss: 0.0024 - acc: 1.0000 - val_loss: 2.6155 - val_acc: 0.5560\n",
      "Epoch 26/50\n",
      "6/6 [==============================] - 19s 3s/step - loss: 0.0044 - acc: 0.9993 - val_loss: 2.4938 - val_acc: 0.5540\n",
      "Epoch 27/50\n",
      "6/6 [==============================] - 20s 3s/step - loss: 0.0018 - acc: 1.0000 - val_loss: 2.8796 - val_acc: 0.5540\n",
      "Epoch 28/50\n",
      "6/6 [==============================] - 19s 3s/step - loss: 0.0015 - acc: 1.0000 - val_loss: 3.1416 - val_acc: 0.5600\n",
      "Epoch 29/50\n",
      "6/6 [==============================] - 16s 3s/step - loss: 8.9382e-04 - acc: 1.0000 - val_loss: 3.2315 - val_acc: 0.5400\n",
      "Epoch 30/50\n",
      "6/6 [==============================] - 17s 3s/step - loss: 0.0012 - acc: 1.0000 - val_loss: 3.2060 - val_acc: 0.5480\n",
      "Epoch 31/50\n",
      "6/6 [==============================] - 21s 3s/step - loss: 6.2987e-04 - acc: 1.0000 - val_loss: 3.1465 - val_acc: 0.5480\n",
      "Epoch 32/50\n",
      "6/6 [==============================] - 17s 3s/step - loss: 5.1308e-04 - acc: 1.0000 - val_loss: 3.0043 - val_acc: 0.5540\n",
      "Epoch 33/50\n",
      "6/6 [==============================] - 17s 3s/step - loss: 4.4421e-04 - acc: 1.0000 - val_loss: 2.9861 - val_acc: 0.5640\n",
      "Epoch 34/50\n",
      "6/6 [==============================] - 17s 3s/step - loss: 6.2063e-04 - acc: 1.0000 - val_loss: 3.0271 - val_acc: 0.5560\n",
      "Epoch 35/50\n",
      "6/6 [==============================] - 16s 3s/step - loss: 4.5299e-04 - acc: 1.0000 - val_loss: 3.0683 - val_acc: 0.5560\n",
      "Epoch 36/50\n",
      "6/6 [==============================] - 15s 3s/step - loss: 4.1190e-04 - acc: 1.0000 - val_loss: 3.1495 - val_acc: 0.5540\n",
      "Epoch 37/50\n",
      "6/6 [==============================] - 22s 4s/step - loss: 5.2521e-04 - acc: 1.0000 - val_loss: 3.1573 - val_acc: 0.5600\n",
      "Epoch 38/50\n",
      "6/6 [==============================] - 16s 3s/step - loss: 2.7240e-04 - acc: 1.0000 - val_loss: 3.2205 - val_acc: 0.5640\n",
      "Epoch 39/50\n",
      "6/6 [==============================] - 20s 3s/step - loss: 8.2873e-04 - acc: 0.9993 - val_loss: 3.3081 - val_acc: 0.5500\n",
      "Epoch 40/50\n",
      "6/6 [==============================] - 20s 3s/step - loss: 1.4340e-04 - acc: 1.0000 - val_loss: 3.3564 - val_acc: 0.5440\n",
      "Epoch 41/50\n",
      "6/6 [==============================] - 17s 3s/step - loss: 1.6332e-04 - acc: 1.0000 - val_loss: 3.3668 - val_acc: 0.5440\n",
      "Epoch 42/50\n",
      "6/6 [==============================] - 20s 3s/step - loss: 1.4642e-04 - acc: 1.0000 - val_loss: 3.3850 - val_acc: 0.5480\n",
      "Epoch 43/50\n",
      "6/6 [==============================] - 16s 3s/step - loss: 1.2249e-04 - acc: 1.0000 - val_loss: 3.3895 - val_acc: 0.5520\n",
      "Epoch 44/50\n",
      "6/6 [==============================] - 20s 3s/step - loss: 1.4811e-04 - acc: 1.0000 - val_loss: 3.4049 - val_acc: 0.5440\n",
      "Epoch 45/50\n",
      "6/6 [==============================] - 16s 3s/step - loss: 1.1287e-04 - acc: 1.0000 - val_loss: 3.4556 - val_acc: 0.5400\n",
      "Epoch 46/50\n",
      "6/6 [==============================] - 17s 3s/step - loss: 5.5830e-05 - acc: 1.0000 - val_loss: 3.4994 - val_acc: 0.5440\n",
      "Epoch 47/50\n",
      "6/6 [==============================] - 16s 3s/step - loss: 1.2909e-04 - acc: 1.0000 - val_loss: 3.5082 - val_acc: 0.5400\n",
      "Epoch 48/50\n",
      "6/6 [==============================] - 15s 3s/step - loss: 5.6453e-05 - acc: 1.0000 - val_loss: 3.4987 - val_acc: 0.5500\n",
      "Epoch 49/50\n",
      "6/6 [==============================] - 14s 2s/step - loss: 6.7310e-05 - acc: 1.0000 - val_loss: 3.5301 - val_acc: 0.5480\n",
      "Epoch 50/50\n",
      "6/6 [==============================] - 14s 2s/step - loss: 7.0630e-05 - acc: 1.0000 - val_loss: 3.5942 - val_acc: 0.5420\n"
     ]
    }
   ],
   "source": [
    "h = cat_dog_model.fit(X_train, y_train,\n",
    "              validation_data = (X_val, y_val),\n",
    "              batch_size=256, \n",
    "              epochs = 50\n",
    "             )"
   ]
  },
  {
   "cell_type": "code",
   "execution_count": 20,
   "id": "c2b89059",
   "metadata": {},
   "outputs": [
    {
     "data": {
      "image/png": "[encoded data removed]",
      "text/plain": [
       "<Figure size 1080x360 with 1 Axes>"
      ]
     },
     "metadata": {
      "needs_background": "light"
     },
     "output_type": "display_data"
    }
   ],
   "source": [
    "plt.figure(figsize=(15,5))\n",
    "\n",
    "plt.plot(h.history['acc'],\n",
    "         label='acc'\n",
    "        )\n",
    "\n",
    "plt.plot(h.history['val_acc'],\n",
    "         label='val_acc'\n",
    "        )\n",
    "\n",
    "plt.legend(prop={'size':40}, loc=\"lower center\")\n",
    "plt.show()"
   ]
  },
  {
   "cell_type": "code",
   "execution_count": 22,
   "id": "7ccdba41",
   "metadata": {},
   "outputs": [
    {
     "name": "stdout",
     "output_type": "stream",
     "text": [
      "32/32 [==============================] - 2s 54ms/step - loss: 3.0682 - acc: 0.5780\n"
     ]
    },
    {
     "data": {
      "text/plain": [
       "[3.0681655406951904, 0.578000009059906]"
      ]
     },
     "execution_count": 22,
     "metadata": {},
     "output_type": "execute_result"
    }
   ],
   "source": [
    "cat_dog_model.evaluate(X_test, y_test)"
   ]
  }
 ],
 "metadata": {
  "kernelspec": {
   "display_name": "Python 3 (ipykernel)",
   "language": "python",
   "name": "python3"
  },
  "language_info": {
   "codemirror_mode": {
    "name": "ipython",
    "version": 3
   },
   "file_extension": ".py",
   "mimetype": "text/x-python",
   "name": "python",
   "nbconvert_exporter": "python",
   "pygments_lexer": "ipython3",
   "version": "3.7.11"
  }
 },
 "nbformat": 4,
 "nbformat_minor": 5
}
