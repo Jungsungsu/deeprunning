{
 "cells": [
  {
   "cell_type": "markdown",
   "id": "f876925e",
   "metadata": {},
   "source": [
    "### 목표\n",
    "- 패션 이미지 데이터(10가지)를 분류하는 모델을 만들어보자!"
   ]
  },
  {
   "cell_type": "code",
   "execution_count": 2,
   "id": "fb29bf1d",
   "metadata": {},
   "outputs": [],
   "source": [
    "import numpy as np\n",
    "import pandas as pd\n",
    "import matplotlib.pyplot as plt\n",
    "# 학습용 패션 이미지 데이터 로드\n",
    "from tensorflow.keras.datasets import fashion_mnist"
   ]
  },
  {
   "cell_type": "code",
   "execution_count": 3,
   "id": "c3932bb9",
   "metadata": {},
   "outputs": [
    {
     "name": "stdout",
     "output_type": "stream",
     "text": [
      "Downloading data from https://storage.googleapis.com/tensorflow/tf-keras-datasets/train-labels-idx1-ubyte.gz\n",
      "32768/29515 [=================================] - 0s 0us/step\n",
      "Downloading data from https://storage.googleapis.com/tensorflow/tf-keras-datasets/train-images-idx3-ubyte.gz\n",
      "26427392/26421880 [==============================] - 2s 0us/step\n",
      "Downloading data from https://storage.googleapis.com/tensorflow/tf-keras-datasets/t10k-labels-idx1-ubyte.gz\n",
      "8192/5148 [===============================================] - 0s 0us/step\n",
      "Downloading data from https://storage.googleapis.com/tensorflow/tf-keras-datasets/t10k-images-idx3-ubyte.gz\n",
      "4423680/4422102 [==============================] - 0s 0us/step\n"
     ]
    },
    {
     "data": {
      "text/plain": [
       "((array([[[0, 0, 0, ..., 0, 0, 0],\n",
       "          [0, 0, 0, ..., 0, 0, 0],\n",
       "          [0, 0, 0, ..., 0, 0, 0],\n",
       "          ...,\n",
       "          [0, 0, 0, ..., 0, 0, 0],\n",
       "          [0, 0, 0, ..., 0, 0, 0],\n",
       "          [0, 0, 0, ..., 0, 0, 0]],\n",
       "  \n",
       "         [[0, 0, 0, ..., 0, 0, 0],\n",
       "          [0, 0, 0, ..., 0, 0, 0],\n",
       "          [0, 0, 0, ..., 0, 0, 0],\n",
       "          ...,\n",
       "          [0, 0, 0, ..., 0, 0, 0],\n",
       "          [0, 0, 0, ..., 0, 0, 0],\n",
       "          [0, 0, 0, ..., 0, 0, 0]],\n",
       "  \n",
       "         [[0, 0, 0, ..., 0, 0, 0],\n",
       "          [0, 0, 0, ..., 0, 0, 0],\n",
       "          [0, 0, 0, ..., 0, 0, 0],\n",
       "          ...,\n",
       "          [0, 0, 0, ..., 0, 0, 0],\n",
       "          [0, 0, 0, ..., 0, 0, 0],\n",
       "          [0, 0, 0, ..., 0, 0, 0]],\n",
       "  \n",
       "         ...,\n",
       "  \n",
       "         [[0, 0, 0, ..., 0, 0, 0],\n",
       "          [0, 0, 0, ..., 0, 0, 0],\n",
       "          [0, 0, 0, ..., 0, 0, 0],\n",
       "          ...,\n",
       "          [0, 0, 0, ..., 0, 0, 0],\n",
       "          [0, 0, 0, ..., 0, 0, 0],\n",
       "          [0, 0, 0, ..., 0, 0, 0]],\n",
       "  \n",
       "         [[0, 0, 0, ..., 0, 0, 0],\n",
       "          [0, 0, 0, ..., 0, 0, 0],\n",
       "          [0, 0, 0, ..., 0, 0, 0],\n",
       "          ...,\n",
       "          [0, 0, 0, ..., 0, 0, 0],\n",
       "          [0, 0, 0, ..., 0, 0, 0],\n",
       "          [0, 0, 0, ..., 0, 0, 0]],\n",
       "  \n",
       "         [[0, 0, 0, ..., 0, 0, 0],\n",
       "          [0, 0, 0, ..., 0, 0, 0],\n",
       "          [0, 0, 0, ..., 0, 0, 0],\n",
       "          ...,\n",
       "          [0, 0, 0, ..., 0, 0, 0],\n",
       "          [0, 0, 0, ..., 0, 0, 0],\n",
       "          [0, 0, 0, ..., 0, 0, 0]]], dtype=uint8),\n",
       "  array([9, 0, 0, ..., 3, 0, 5], dtype=uint8)),\n",
       " (array([[[0, 0, 0, ..., 0, 0, 0],\n",
       "          [0, 0, 0, ..., 0, 0, 0],\n",
       "          [0, 0, 0, ..., 0, 0, 0],\n",
       "          ...,\n",
       "          [0, 0, 0, ..., 0, 0, 0],\n",
       "          [0, 0, 0, ..., 0, 0, 0],\n",
       "          [0, 0, 0, ..., 0, 0, 0]],\n",
       "  \n",
       "         [[0, 0, 0, ..., 0, 0, 0],\n",
       "          [0, 0, 0, ..., 0, 0, 0],\n",
       "          [0, 0, 0, ..., 0, 0, 0],\n",
       "          ...,\n",
       "          [0, 0, 0, ..., 0, 0, 0],\n",
       "          [0, 0, 0, ..., 0, 0, 0],\n",
       "          [0, 0, 0, ..., 0, 0, 0]],\n",
       "  \n",
       "         [[0, 0, 0, ..., 0, 0, 0],\n",
       "          [0, 0, 0, ..., 0, 0, 0],\n",
       "          [0, 0, 0, ..., 0, 0, 0],\n",
       "          ...,\n",
       "          [0, 0, 0, ..., 0, 0, 0],\n",
       "          [0, 0, 0, ..., 0, 0, 0],\n",
       "          [0, 0, 0, ..., 0, 0, 0]],\n",
       "  \n",
       "         ...,\n",
       "  \n",
       "         [[0, 0, 0, ..., 0, 0, 0],\n",
       "          [0, 0, 0, ..., 0, 0, 0],\n",
       "          [0, 0, 0, ..., 0, 0, 0],\n",
       "          ...,\n",
       "          [0, 0, 0, ..., 0, 0, 0],\n",
       "          [0, 0, 0, ..., 0, 0, 0],\n",
       "          [0, 0, 0, ..., 0, 0, 0]],\n",
       "  \n",
       "         [[0, 0, 0, ..., 0, 0, 0],\n",
       "          [0, 0, 0, ..., 0, 0, 0],\n",
       "          [0, 0, 0, ..., 0, 0, 0],\n",
       "          ...,\n",
       "          [0, 0, 0, ..., 0, 0, 0],\n",
       "          [0, 0, 0, ..., 0, 0, 0],\n",
       "          [0, 0, 0, ..., 0, 0, 0]],\n",
       "  \n",
       "         [[0, 0, 0, ..., 0, 0, 0],\n",
       "          [0, 0, 0, ..., 0, 0, 0],\n",
       "          [0, 0, 0, ..., 0, 0, 0],\n",
       "          ...,\n",
       "          [0, 0, 0, ..., 0, 0, 0],\n",
       "          [0, 0, 0, ..., 0, 0, 0],\n",
       "          [0, 0, 0, ..., 0, 0, 0]]], dtype=uint8),\n",
       "  array([9, 2, 1, ..., 8, 1, 5], dtype=uint8)))"
      ]
     },
     "execution_count": 3,
     "metadata": {},
     "output_type": "execute_result"
    }
   ],
   "source": [
    "data = fashion_mnist.load_data()\n",
    "data"
   ]
  },
  {
   "cell_type": "code",
   "execution_count": 4,
   "id": "882b95c8",
   "metadata": {},
   "outputs": [],
   "source": [
    "(X_train, y_train), (X_test, y_test) = data"
   ]
  },
  {
   "cell_type": "code",
   "execution_count": 5,
   "id": "aaf669db",
   "metadata": {},
   "outputs": [
    {
     "name": "stdout",
     "output_type": "stream",
     "text": [
      "(60000, 28, 28)\n",
      "(60000,)\n",
      "(10000, 28, 28)\n",
      "(10000,)\n"
     ]
    }
   ],
   "source": [
    "print(X_train.shape)\n",
    "print(y_train.shape)\n",
    "print(X_test.shape)\n",
    "print(y_test.shape)"
   ]
  },
  {
   "cell_type": "code",
   "execution_count": 7,
   "id": "c07b41ff",
   "metadata": {},
   "outputs": [
    {
     "data": {
      "image/png": "[encoded data removed]",
      "text/plain": [
       "<Figure size 432x288 with 1 Axes>"
      ]
     },
     "metadata": {
      "needs_background": "light"
     },
     "output_type": "display_data"
    }
   ],
   "source": [
    "plt.imshow(X_train[59999], cmap='gray');"
   ]
  },
  {
   "cell_type": "code",
   "execution_count": 8,
   "id": "26240e77",
   "metadata": {},
   "outputs": [
    {
     "data": {
      "text/plain": [
       "array([9, 0, 0, ..., 3, 0, 5], dtype=uint8)"
      ]
     },
     "execution_count": 8,
     "metadata": {},
     "output_type": "execute_result"
    }
   ],
   "source": [
    "y_train"
   ]
  },
  {
   "cell_type": "code",
   "execution_count": 9,
   "id": "6bc84451",
   "metadata": {},
   "outputs": [],
   "source": [
    "y_train_one_hot = pd.get_dummies(y_train)\n",
    "y_test_one_hot = pd.get_dummies(y_test)"
   ]
  },
  {
   "cell_type": "code",
   "execution_count": 10,
   "id": "cb96da66",
   "metadata": {},
   "outputs": [],
   "source": [
    "from sklearn.model_selection import train_test_split"
   ]
  },
  {
   "cell_type": "code",
   "execution_count": 11,
   "id": "2b282083",
   "metadata": {},
   "outputs": [],
   "source": [
    "X_train, X_val, y_train_one_hot, y_val_one_hot = train_test_split(X_train,\n",
    "                                                                  y_train_one_hot,\n",
    "                                                                  random_state=5\n",
    "                                                                 )"
   ]
  },
  {
   "cell_type": "code",
   "execution_count": 12,
   "id": "6349d3c0",
   "metadata": {},
   "outputs": [
    {
     "data": {
      "text/plain": [
       "((45000, 28, 28), (15000, 28, 28))"
      ]
     },
     "execution_count": 12,
     "metadata": {},
     "output_type": "execute_result"
    }
   ],
   "source": [
    "X_train.shape, X_val.shape"
   ]
  },
  {
   "cell_type": "markdown",
   "id": "18a2846e",
   "metadata": {},
   "source": [
    "#### 신경망 설계"
   ]
  },
  {
   "cell_type": "code",
   "execution_count": 13,
   "id": "0bdb5204",
   "metadata": {},
   "outputs": [],
   "source": [
    "from tensorflow.keras import Sequential\n",
    "from tensorflow.keras.layers import Dense, Flatten\n",
    "# Flatten : 데이터를 1차원으로 자동적으로 펴주는 라이브러리"
   ]
  },
  {
   "cell_type": "code",
   "execution_count": 14,
   "id": "279c1c99",
   "metadata": {
    "collapsed": true
   },
   "outputs": [
    {
     "name": "stdout",
     "output_type": "stream",
     "text": [
      "Model: \"sequential\"\n",
      "_________________________________________________________________\n",
      "Layer (type)                 Output Shape              Param #   \n",
      "=================================================================\n",
      "flatten (Flatten)            (None, 784)               0         \n",
      "_________________________________________________________________\n",
      "dense (Dense)                (None, 1000)              785000    \n",
      "_________________________________________________________________\n",
      "dense_1 (Dense)              (None, 500)               500500    \n",
      "_________________________________________________________________\n",
      "dense_2 (Dense)              (None, 100)               50100     \n",
      "_________________________________________________________________\n",
      "dense_3 (Dense)              (None, 10)                1010      \n",
      "=================================================================\n",
      "Total params: 1,336,610\n",
      "Trainable params: 1,336,610\n",
      "Non-trainable params: 0\n",
      "_________________________________________________________________\n"
     ]
    }
   ],
   "source": [
    "model = Sequential()\n",
    "\n",
    "# Flatten 명령을 통해 한번에 바로 이미지 데이터를 1차원으로 펴서 신경망에 넣어줌\n",
    "model.add(Flatten(input_shape=(28,28)))\n",
    "\n",
    "model.add(Dense(1000, activation='relu'))\n",
    "model.add(Dense(500, activation='relu'))\n",
    "model.add(Dense(100, activation='relu'))\n",
    "\n",
    "model.add(Dense(10, activation='softmax'))\n",
    "\n",
    "model.summary()"
   ]
  },
  {
   "cell_type": "code",
   "execution_count": 15,
   "id": "8f7277e4",
   "metadata": {},
   "outputs": [],
   "source": [
    "model.compile(loss='categorical_crossentropy',\n",
    "              optimizer='Adam',\n",
    "              metrics=['acc']\n",
    "             )"
   ]
  },
  {
   "cell_type": "code",
   "execution_count": 16,
   "id": "2aa626fb",
   "metadata": {},
   "outputs": [
    {
     "name": "stdout",
     "output_type": "stream",
     "text": [
      "Epoch 1/30\n",
      "176/176 [==============================] - 5s 30ms/step - loss: 12.1563 - acc: 0.7159 - val_loss: 0.8000 - val_acc: 0.7967\n",
      "Epoch 2/30\n",
      "176/176 [==============================] - 5s 30ms/step - loss: 0.7563 - acc: 0.8148 - val_loss: 0.7298 - val_acc: 0.8128\n",
      "Epoch 3/30\n",
      "176/176 [==============================] - 5s 27ms/step - loss: 0.5718 - acc: 0.8358 - val_loss: 0.6514 - val_acc: 0.8265\n",
      "Epoch 4/30\n",
      "176/176 [==============================] - 5s 28ms/step - loss: 0.4539 - acc: 0.8564 - val_loss: 0.4724 - val_acc: 0.8489\n",
      "Epoch 5/30\n",
      "176/176 [==============================] - 5s 29ms/step - loss: 0.3823 - acc: 0.8708 - val_loss: 0.4232 - val_acc: 0.8654\n",
      "Epoch 6/30\n",
      "176/176 [==============================] - 5s 29ms/step - loss: 0.3604 - acc: 0.8763 - val_loss: 0.4873 - val_acc: 0.8406\n",
      "Epoch 7/30\n",
      "176/176 [==============================] - 5s 30ms/step - loss: 0.3161 - acc: 0.8896 - val_loss: 0.4636 - val_acc: 0.8485\n",
      "Epoch 8/30\n",
      "176/176 [==============================] - 5s 27ms/step - loss: 0.3018 - acc: 0.8920 - val_loss: 0.3762 - val_acc: 0.8806\n",
      "Epoch 9/30\n",
      "176/176 [==============================] - 5s 27ms/step - loss: 0.2748 - acc: 0.9013 - val_loss: 0.4445 - val_acc: 0.8631\n",
      "Epoch 10/30\n",
      "176/176 [==============================] - 5s 26ms/step - loss: 0.2698 - acc: 0.9012 - val_loss: 0.3925 - val_acc: 0.8765\n",
      "Epoch 11/30\n",
      "176/176 [==============================] - 4s 25ms/step - loss: 0.2712 - acc: 0.9023 - val_loss: 0.4113 - val_acc: 0.8703\n",
      "Epoch 12/30\n",
      "176/176 [==============================] - 4s 25ms/step - loss: 0.2483 - acc: 0.9104 - val_loss: 0.4130 - val_acc: 0.8697\n",
      "Epoch 13/30\n",
      "176/176 [==============================] - 4s 24ms/step - loss: 0.2444 - acc: 0.9115 - val_loss: 0.3918 - val_acc: 0.8727\n",
      "Epoch 14/30\n",
      "176/176 [==============================] - 4s 21ms/step - loss: 0.2326 - acc: 0.9158 - val_loss: 0.4138 - val_acc: 0.8689\n",
      "Epoch 15/30\n",
      "176/176 [==============================] - 4s 22ms/step - loss: 0.2299 - acc: 0.9155 - val_loss: 0.3998 - val_acc: 0.8714\n",
      "Epoch 16/30\n",
      "176/176 [==============================] - 4s 24ms/step - loss: 0.2297 - acc: 0.9171 - val_loss: 0.3961 - val_acc: 0.8733\n",
      "Epoch 17/30\n",
      "176/176 [==============================] - 4s 24ms/step - loss: 0.2393 - acc: 0.9127 - val_loss: 0.3886 - val_acc: 0.8783\n",
      "Epoch 18/30\n",
      "176/176 [==============================] - 4s 22ms/step - loss: 0.2315 - acc: 0.9156 - val_loss: 0.3989 - val_acc: 0.8781\n",
      "Epoch 19/30\n",
      "176/176 [==============================] - 4s 23ms/step - loss: 0.2228 - acc: 0.9171 - val_loss: 0.4125 - val_acc: 0.8728\n",
      "Epoch 20/30\n",
      "176/176 [==============================] - 4s 22ms/step - loss: 0.2195 - acc: 0.9200 - val_loss: 0.3757 - val_acc: 0.8813\n",
      "Epoch 21/30\n",
      "176/176 [==============================] - 4s 24ms/step - loss: 0.2133 - acc: 0.9209 - val_loss: 0.4131 - val_acc: 0.8787\n",
      "Epoch 22/30\n",
      "176/176 [==============================] - 4s 23ms/step - loss: 0.2155 - acc: 0.9209 - val_loss: 0.4345 - val_acc: 0.8651\n",
      "Epoch 23/30\n",
      "176/176 [==============================] - 4s 23ms/step - loss: 0.2170 - acc: 0.9191 - val_loss: 0.4339 - val_acc: 0.8785\n",
      "Epoch 24/30\n",
      "176/176 [==============================] - 4s 22ms/step - loss: 0.2131 - acc: 0.9221 - val_loss: 0.3624 - val_acc: 0.8883\n",
      "Epoch 25/30\n",
      "176/176 [==============================] - 4s 23ms/step - loss: 0.2123 - acc: 0.9236 - val_loss: 0.3900 - val_acc: 0.8812\n",
      "Epoch 26/30\n",
      "176/176 [==============================] - 4s 23ms/step - loss: 0.2224 - acc: 0.9196 - val_loss: 0.4095 - val_acc: 0.8736\n",
      "Epoch 27/30\n",
      "176/176 [==============================] - 4s 23ms/step - loss: 0.2101 - acc: 0.9225 - val_loss: 0.4042 - val_acc: 0.8738\n",
      "Epoch 28/30\n",
      "176/176 [==============================] - 4s 21ms/step - loss: 0.1975 - acc: 0.9272 - val_loss: 0.4092 - val_acc: 0.8704\n",
      "Epoch 29/30\n",
      "176/176 [==============================] - 4s 21ms/step - loss: 0.2047 - acc: 0.9232 - val_loss: 0.4319 - val_acc: 0.8693\n",
      "Epoch 30/30\n",
      "176/176 [==============================] - 3s 20ms/step - loss: 0.2024 - acc: 0.9250 - val_loss: 0.4046 - val_acc: 0.8699\n"
     ]
    }
   ],
   "source": [
    "h = model.fit(X_train, y_train_one_hot,\n",
    "              validation_data = (X_val, y_val_one_hot),\n",
    "              epochs=30,\n",
    "              batch_size=256\n",
    "             )"
   ]
  },
  {
   "cell_type": "code",
   "execution_count": 17,
   "id": "202f214d",
   "metadata": {},
   "outputs": [
    {
     "data": {
      "image/png": "[encoded data removed]",
      "text/plain": [
       "<Figure size 1080x360 with 1 Axes>"
      ]
     },
     "metadata": {
      "needs_background": "light"
     },
     "output_type": "display_data"
    }
   ],
   "source": [
    "plt.figure(figsize=(15,5))\n",
    "\n",
    "plt.plot(h.history['acc'],\n",
    "         label='acc'\n",
    "        )\n",
    "\n",
    "plt.plot(h.history['val_acc'],\n",
    "         label='val_acc'\n",
    "        )\n",
    "\n",
    "plt.legend()\n",
    "plt.show()"
   ]
  },
  {
   "cell_type": "code",
   "execution_count": 18,
   "id": "a58477cf",
   "metadata": {},
   "outputs": [
    {
     "data": {
      "image/png": "[encoded data removed]",
      "text/plain": [
       "<Figure size 1080x360 with 1 Axes>"
      ]
     },
     "metadata": {
      "needs_background": "light"
     },
     "output_type": "display_data"
    }
   ],
   "source": [
    "plt.figure(figsize=(15,5))\n",
    "\n",
    "plt.plot(h.history['loss'],\n",
    "         label='loss'\n",
    "        )\n",
    "\n",
    "plt.plot(h.history['val_loss'],\n",
    "         label='val_loss'\n",
    "        )\n",
    "\n",
    "plt.legend()\n",
    "plt.show()"
   ]
  },
  {
   "cell_type": "code",
   "execution_count": 19,
   "id": "e4cccad9",
   "metadata": {},
   "outputs": [
    {
     "name": "stdout",
     "output_type": "stream",
     "text": [
      "313/313 [==============================] - 1s 4ms/step - loss: 0.4411 - acc: 0.8654\n"
     ]
    },
    {
     "data": {
      "text/plain": [
       "[0.44113004207611084, 0.8654000163078308]"
      ]
     },
     "execution_count": 19,
     "metadata": {},
     "output_type": "execute_result"
    }
   ],
   "source": [
    "model.evaluate(X_test, y_test_one_hot)"
   ]
  }
 ],
 "metadata": {
  "kernelspec": {
   "display_name": "Python 3 (ipykernel)",
   "language": "python",
   "name": "python3"
  },
  "language_info": {
   "codemirror_mode": {
    "name": "ipython",
    "version": 3
   },
   "file_extension": ".py",
   "mimetype": "text/x-python",
   "name": "python",
   "nbconvert_exporter": "python",
   "pygments_lexer": "ipython3",
   "version": "3.7.11"
  }
 },
 "nbformat": 4,
 "nbformat_minor": 5
}
